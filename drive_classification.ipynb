{
  "nbformat": 4,
  "nbformat_minor": 0,
  "metadata": {
    "colab": {
      "name": "drive_classification.ipynb",
      "provenance": [],
      "collapsed_sections": [],
      "mount_file_id": "1JfAfL3AgwO_paJQmFliBNQqIZ9Dzo4bU",
      "authorship_tag": "ABX9TyPUUhaqJb5GXtcBqstgpxVM",
      "include_colab_link": true
    },
    "kernelspec": {
      "name": "python3",
      "display_name": "Python 3"
    }
  },
  "cells": [
    {
      "cell_type": "markdown",
      "metadata": {
        "id": "view-in-github",
        "colab_type": "text"
      },
      "source": [
        "<a href=\"https://colab.research.google.com/github/CarveTheFuture/Hard_Drive_Reliability/blob/main/drive_classification.ipynb\" target=\"_parent\"><img src=\"https://colab.research.google.com/assets/colab-badge.svg\" alt=\"Open In Colab\"/></a>"
      ]
    },
    {
      "cell_type": "code",
      "metadata": {
        "id": "svFRH8z0AyX5"
      },
      "source": [
        "import pandas as pd\r\n",
        "import csv, sqlite3\r\n",
        "import matplotlib.pyplot as plt\r\n",
        "import numpy as np"
      ],
      "execution_count": null,
      "outputs": []
    },
    {
      "cell_type": "code",
      "metadata": {
        "id": "Iej1rpuWAzaP"
      },
      "source": [
        "import matplotlib.pyplot as plt\r\n",
        "import numpy as np"
      ],
      "execution_count": null,
      "outputs": []
    },
    {
      "cell_type": "code",
      "metadata": {
        "id": "lnh70_sAAzeU"
      },
      "source": [
        ""
      ],
      "execution_count": null,
      "outputs": []
    },
    {
      "cell_type": "code",
      "metadata": {
        "id": "B8dRbtcwAzjS"
      },
      "source": [
        "from sklearn.ensemble import ExtraTreesClassifier\r\n",
        "from sklearn.model_selection import train_test_split\r\n",
        "from sklearn.model_selection import cross_val_score\r\n",
        "from sklearn.datasets import load_iris\r\n",
        "from sklearn.metrics import confusion_matrix\r\n",
        "from sklearn import metrics \r\n",
        "#Import scikit-learn metrics module for accuracy calculation\r\n"
      ],
      "execution_count": null,
      "outputs": []
    },
    {
      "cell_type": "code",
      "metadata": {
        "id": "IUQxJXFxA_sB"
      },
      "source": [
        "X_train=pd.read_csv('/content/drive/MyDrive/Analysis_Deta/2019/Model_Inputs/X_train_hours.csv')\r\n",
        "X_test=pd.read_csv('/content/drive/MyDrive/Analysis_Deta/2019/Model_Inputs/X_test_hours.csv')"
      ],
      "execution_count": null,
      "outputs": []
    },
    {
      "cell_type": "code",
      "metadata": {
        "colab": {
          "base_uri": "https://localhost:8080/",
          "height": 311
        },
        "id": "2xG_lIuoBRXO",
        "outputId": "1522327a-4690-452f-884b-a455d6ebd5b4"
      },
      "source": [
        "X_train.head(2)"
      ],
      "execution_count": null,
      "outputs": [
        {
          "output_type": "execute_result",
          "data": {
            "text/html": [
              "<div>\n",
              "<style scoped>\n",
              "    .dataframe tbody tr th:only-of-type {\n",
              "        vertical-align: middle;\n",
              "    }\n",
              "\n",
              "    .dataframe tbody tr th {\n",
              "        vertical-align: top;\n",
              "    }\n",
              "\n",
              "    .dataframe thead th {\n",
              "        text-align: right;\n",
              "    }\n",
              "</style>\n",
              "<table border=\"1\" class=\"dataframe\">\n",
              "  <thead>\n",
              "    <tr style=\"text-align: right;\">\n",
              "      <th></th>\n",
              "      <th>Unnamed: 0</th>\n",
              "      <th>Unnamed: 0.1</th>\n",
              "      <th>date</th>\n",
              "      <th>serial_number</th>\n",
              "      <th>model</th>\n",
              "      <th>capacity_bytes</th>\n",
              "      <th>failure</th>\n",
              "      <th>smart_1_normalized</th>\n",
              "      <th>smart_1_raw</th>\n",
              "      <th>smart_3_normalized</th>\n",
              "      <th>smart_4_raw</th>\n",
              "      <th>smart_5_normalized</th>\n",
              "      <th>smart_5_raw</th>\n",
              "      <th>smart_7_normalized</th>\n",
              "      <th>smart_7_raw</th>\n",
              "      <th>smart_9_normalized</th>\n",
              "      <th>smart_9_raw</th>\n",
              "      <th>smart_12_raw</th>\n",
              "      <th>smart_183_normalized</th>\n",
              "      <th>smart_183_raw</th>\n",
              "      <th>smart_184_normalized</th>\n",
              "      <th>smart_184_raw</th>\n",
              "      <th>smart_187_normalized</th>\n",
              "      <th>smart_187_raw</th>\n",
              "      <th>smart_188_raw</th>\n",
              "      <th>smart_189_normalized</th>\n",
              "      <th>smart_189_raw</th>\n",
              "      <th>smart_190_normalized</th>\n",
              "      <th>smart_190_raw</th>\n",
              "      <th>smart_192_raw</th>\n",
              "      <th>smart_193_normalized</th>\n",
              "      <th>smart_193_raw</th>\n",
              "      <th>smart_194_normalized</th>\n",
              "      <th>smart_194_raw</th>\n",
              "      <th>smart_197_normalized</th>\n",
              "      <th>smart_197_raw</th>\n",
              "      <th>smart_198_normalized</th>\n",
              "      <th>smart_198_raw</th>\n",
              "      <th>smart_199_raw</th>\n",
              "      <th>smart_240_raw</th>\n",
              "      <th>smart_241_raw</th>\n",
              "      <th>smart_242_raw</th>\n",
              "      <th>fail_date</th>\n",
              "      <th>date_fail</th>\n",
              "      <th>perform</th>\n",
              "      <th>days</th>\n",
              "    </tr>\n",
              "  </thead>\n",
              "  <tbody>\n",
              "    <tr>\n",
              "      <th>0</th>\n",
              "      <td>0</td>\n",
              "      <td>0</td>\n",
              "      <td>2019-01-01</td>\n",
              "      <td>Z302BV7C</td>\n",
              "      <td>ST4000DM000</td>\n",
              "      <td>4000787030016</td>\n",
              "      <td>0</td>\n",
              "      <td>119.0</td>\n",
              "      <td>231195280.0</td>\n",
              "      <td>93.0</td>\n",
              "      <td>7.0</td>\n",
              "      <td>100.0</td>\n",
              "      <td>0.0</td>\n",
              "      <td>87.0</td>\n",
              "      <td>526658972.0</td>\n",
              "      <td>65.0</td>\n",
              "      <td>30873.0</td>\n",
              "      <td>7.0</td>\n",
              "      <td>100.0</td>\n",
              "      <td>0.0</td>\n",
              "      <td>100.0</td>\n",
              "      <td>0.0</td>\n",
              "      <td>100.0</td>\n",
              "      <td>0.0</td>\n",
              "      <td>0.0</td>\n",
              "      <td>100.0</td>\n",
              "      <td>0.0</td>\n",
              "      <td>76.0</td>\n",
              "      <td>24.0</td>\n",
              "      <td>0.0</td>\n",
              "      <td>81.0</td>\n",
              "      <td>38399.0</td>\n",
              "      <td>24.0</td>\n",
              "      <td>24.0</td>\n",
              "      <td>100.0</td>\n",
              "      <td>0.0</td>\n",
              "      <td>100.0</td>\n",
              "      <td>0.0</td>\n",
              "      <td>0.0</td>\n",
              "      <td>30503.0</td>\n",
              "      <td>5.403677e+10</td>\n",
              "      <td>1.219510e+11</td>\n",
              "      <td>4011    2019-11-13\\nName: date, dtype: object</td>\n",
              "      <td>2019-11-13</td>\n",
              "      <td>11</td>\n",
              "      <td>0.0</td>\n",
              "    </tr>\n",
              "    <tr>\n",
              "      <th>1</th>\n",
              "      <td>1</td>\n",
              "      <td>1</td>\n",
              "      <td>2019-01-01</td>\n",
              "      <td>Z304JN7J</td>\n",
              "      <td>ST4000DM000</td>\n",
              "      <td>4000787030016</td>\n",
              "      <td>0</td>\n",
              "      <td>119.0</td>\n",
              "      <td>208663312.0</td>\n",
              "      <td>92.0</td>\n",
              "      <td>9.0</td>\n",
              "      <td>100.0</td>\n",
              "      <td>0.0</td>\n",
              "      <td>86.0</td>\n",
              "      <td>429695685.0</td>\n",
              "      <td>68.0</td>\n",
              "      <td>28392.0</td>\n",
              "      <td>9.0</td>\n",
              "      <td>98.0</td>\n",
              "      <td>2.0</td>\n",
              "      <td>100.0</td>\n",
              "      <td>0.0</td>\n",
              "      <td>100.0</td>\n",
              "      <td>0.0</td>\n",
              "      <td>0.0</td>\n",
              "      <td>100.0</td>\n",
              "      <td>0.0</td>\n",
              "      <td>77.0</td>\n",
              "      <td>23.0</td>\n",
              "      <td>0.0</td>\n",
              "      <td>97.0</td>\n",
              "      <td>7273.0</td>\n",
              "      <td>23.0</td>\n",
              "      <td>23.0</td>\n",
              "      <td>100.0</td>\n",
              "      <td>0.0</td>\n",
              "      <td>100.0</td>\n",
              "      <td>0.0</td>\n",
              "      <td>0.0</td>\n",
              "      <td>28300.0</td>\n",
              "      <td>4.796113e+10</td>\n",
              "      <td>1.341161e+11</td>\n",
              "      <td>10102    2019-01-27\\nName: date, dtype: object</td>\n",
              "      <td>2019-01-27</td>\n",
              "      <td>7</td>\n",
              "      <td>0.0</td>\n",
              "    </tr>\n",
              "  </tbody>\n",
              "</table>\n",
              "</div>"
            ],
            "text/plain": [
              "   Unnamed: 0  Unnamed: 0.1        date  ...   date_fail perform  days\n",
              "0           0             0  2019-01-01  ...  2019-11-13      11   0.0\n",
              "1           1             1  2019-01-01  ...  2019-01-27       7   0.0\n",
              "\n",
              "[2 rows x 46 columns]"
            ]
          },
          "metadata": {
            "tags": []
          },
          "execution_count": 25
        }
      ]
    },
    {
      "cell_type": "code",
      "metadata": {
        "colab": {
          "base_uri": "https://localhost:8080/"
        },
        "id": "uRxblVgcB_53",
        "outputId": "06cbecb2-7e5b-4ce9-b2d1-38910cf6c739"
      },
      "source": [
        "len(X_train.columns)"
      ],
      "execution_count": null,
      "outputs": [
        {
          "output_type": "execute_result",
          "data": {
            "text/plain": [
              "46"
            ]
          },
          "metadata": {
            "tags": []
          },
          "execution_count": 26
        }
      ]
    },
    {
      "cell_type": "code",
      "metadata": {
        "id": "jJb8gUAaBSHt"
      },
      "source": [
        "col_select=list(range(7,42))"
      ],
      "execution_count": null,
      "outputs": []
    },
    {
      "cell_type": "code",
      "metadata": {
        "id": "XvDllIYABVWa"
      },
      "source": [
        "col_select.insert(0,2)"
      ],
      "execution_count": null,
      "outputs": []
    },
    {
      "cell_type": "code",
      "metadata": {
        "id": "W_sX6VCWCa5J"
      },
      "source": [
        "col_select.append(45)"
      ],
      "execution_count": null,
      "outputs": []
    },
    {
      "cell_type": "code",
      "metadata": {
        "colab": {
          "base_uri": "https://localhost:8080/"
        },
        "id": "nleU-jCJEsHV",
        "outputId": "31b55818-2bd5-499e-8dc0-89b4f3f16d85"
      },
      "source": [
        "col_select"
      ],
      "execution_count": null,
      "outputs": [
        {
          "output_type": "execute_result",
          "data": {
            "text/plain": [
              "[7,\n",
              " 8,\n",
              " 9,\n",
              " 10,\n",
              " 11,\n",
              " 12,\n",
              " 13,\n",
              " 14,\n",
              " 15,\n",
              " 16,\n",
              " 17,\n",
              " 18,\n",
              " 19,\n",
              " 20,\n",
              " 21,\n",
              " 22,\n",
              " 23,\n",
              " 24,\n",
              " 25,\n",
              " 26,\n",
              " 27,\n",
              " 28,\n",
              " 29,\n",
              " 30,\n",
              " 31,\n",
              " 32,\n",
              " 33,\n",
              " 34,\n",
              " 35,\n",
              " 36,\n",
              " 37,\n",
              " 38,\n",
              " 39,\n",
              " 40,\n",
              " 41,\n",
              " 42,\n",
              " 45]"
            ]
          },
          "metadata": {
            "tags": []
          },
          "execution_count": 33
        }
      ]
    },
    {
      "cell_type": "code",
      "metadata": {
        "colab": {
          "base_uri": "https://localhost:8080/",
          "height": 426
        },
        "id": "g-lrZ5fbEdj-",
        "outputId": "ad0278f7-65d5-464d-9416-b270dff3b3d5"
      },
      "source": [
        "X_test.iloc[:,col_select]\r\n",
        "X_test.iloc[:,col_select]"
      ],
      "execution_count": null,
      "outputs": [
        {
          "output_type": "execute_result",
          "data": {
            "text/html": [
              "<div>\n",
              "<style scoped>\n",
              "    .dataframe tbody tr th:only-of-type {\n",
              "        vertical-align: middle;\n",
              "    }\n",
              "\n",
              "    .dataframe tbody tr th {\n",
              "        vertical-align: top;\n",
              "    }\n",
              "\n",
              "    .dataframe thead th {\n",
              "        text-align: right;\n",
              "    }\n",
              "</style>\n",
              "<table border=\"1\" class=\"dataframe\">\n",
              "  <thead>\n",
              "    <tr style=\"text-align: right;\">\n",
              "      <th></th>\n",
              "      <th>smart_1_normalized</th>\n",
              "      <th>smart_1_raw</th>\n",
              "      <th>smart_3_normalized</th>\n",
              "      <th>smart_4_raw</th>\n",
              "      <th>smart_5_normalized</th>\n",
              "      <th>smart_5_raw</th>\n",
              "      <th>smart_7_normalized</th>\n",
              "      <th>smart_7_raw</th>\n",
              "      <th>smart_9_normalized</th>\n",
              "      <th>smart_9_raw</th>\n",
              "      <th>smart_12_raw</th>\n",
              "      <th>smart_183_normalized</th>\n",
              "      <th>smart_183_raw</th>\n",
              "      <th>smart_184_normalized</th>\n",
              "      <th>smart_184_raw</th>\n",
              "      <th>smart_187_normalized</th>\n",
              "      <th>smart_187_raw</th>\n",
              "      <th>smart_188_raw</th>\n",
              "      <th>smart_189_normalized</th>\n",
              "      <th>smart_189_raw</th>\n",
              "      <th>smart_190_normalized</th>\n",
              "      <th>smart_190_raw</th>\n",
              "      <th>smart_192_raw</th>\n",
              "      <th>smart_193_normalized</th>\n",
              "      <th>smart_193_raw</th>\n",
              "      <th>smart_194_normalized</th>\n",
              "      <th>smart_194_raw</th>\n",
              "      <th>smart_197_normalized</th>\n",
              "      <th>smart_197_raw</th>\n",
              "      <th>smart_198_normalized</th>\n",
              "      <th>smart_198_raw</th>\n",
              "      <th>smart_199_raw</th>\n",
              "      <th>smart_240_raw</th>\n",
              "      <th>smart_241_raw</th>\n",
              "      <th>smart_242_raw</th>\n",
              "      <th>days</th>\n",
              "    </tr>\n",
              "  </thead>\n",
              "  <tbody>\n",
              "    <tr>\n",
              "      <th>0</th>\n",
              "      <td>117.0</td>\n",
              "      <td>128870072.0</td>\n",
              "      <td>97.0</td>\n",
              "      <td>3.0</td>\n",
              "      <td>100.0</td>\n",
              "      <td>0.0</td>\n",
              "      <td>86.0</td>\n",
              "      <td>439401398.0</td>\n",
              "      <td>68.0</td>\n",
              "      <td>28869.0</td>\n",
              "      <td>3.0</td>\n",
              "      <td>100.0</td>\n",
              "      <td>0.0</td>\n",
              "      <td>100.0</td>\n",
              "      <td>0.0</td>\n",
              "      <td>100.0</td>\n",
              "      <td>0.0</td>\n",
              "      <td>0.0</td>\n",
              "      <td>100.0</td>\n",
              "      <td>0.0</td>\n",
              "      <td>73.0</td>\n",
              "      <td>27.0</td>\n",
              "      <td>0.0</td>\n",
              "      <td>98.0</td>\n",
              "      <td>4683.0</td>\n",
              "      <td>27.0</td>\n",
              "      <td>27.0</td>\n",
              "      <td>100.0</td>\n",
              "      <td>0.0</td>\n",
              "      <td>100.0</td>\n",
              "      <td>0.0</td>\n",
              "      <td>0.0</td>\n",
              "      <td>28817.0</td>\n",
              "      <td>4.531048e+10</td>\n",
              "      <td>1.488980e+11</td>\n",
              "      <td>181.0</td>\n",
              "    </tr>\n",
              "    <tr>\n",
              "      <th>1</th>\n",
              "      <td>119.0</td>\n",
              "      <td>222985768.0</td>\n",
              "      <td>99.0</td>\n",
              "      <td>1.0</td>\n",
              "      <td>100.0</td>\n",
              "      <td>8.0</td>\n",
              "      <td>87.0</td>\n",
              "      <td>536462463.0</td>\n",
              "      <td>64.0</td>\n",
              "      <td>32014.0</td>\n",
              "      <td>1.0</td>\n",
              "      <td>100.0</td>\n",
              "      <td>0.0</td>\n",
              "      <td>100.0</td>\n",
              "      <td>0.0</td>\n",
              "      <td>97.0</td>\n",
              "      <td>3.0</td>\n",
              "      <td>0.0</td>\n",
              "      <td>100.0</td>\n",
              "      <td>0.0</td>\n",
              "      <td>79.0</td>\n",
              "      <td>21.0</td>\n",
              "      <td>0.0</td>\n",
              "      <td>93.0</td>\n",
              "      <td>14392.0</td>\n",
              "      <td>21.0</td>\n",
              "      <td>21.0</td>\n",
              "      <td>100.0</td>\n",
              "      <td>0.0</td>\n",
              "      <td>100.0</td>\n",
              "      <td>0.0</td>\n",
              "      <td>0.0</td>\n",
              "      <td>31864.0</td>\n",
              "      <td>4.958817e+10</td>\n",
              "      <td>1.437131e+11</td>\n",
              "      <td>181.0</td>\n",
              "    </tr>\n",
              "    <tr>\n",
              "      <th>2</th>\n",
              "      <td>116.0</td>\n",
              "      <td>116254936.0</td>\n",
              "      <td>92.0</td>\n",
              "      <td>22.0</td>\n",
              "      <td>100.0</td>\n",
              "      <td>0.0</td>\n",
              "      <td>88.0</td>\n",
              "      <td>749708904.0</td>\n",
              "      <td>62.0</td>\n",
              "      <td>33360.0</td>\n",
              "      <td>22.0</td>\n",
              "      <td>100.0</td>\n",
              "      <td>0.0</td>\n",
              "      <td>100.0</td>\n",
              "      <td>0.0</td>\n",
              "      <td>94.0</td>\n",
              "      <td>6.0</td>\n",
              "      <td>0.0</td>\n",
              "      <td>100.0</td>\n",
              "      <td>0.0</td>\n",
              "      <td>73.0</td>\n",
              "      <td>27.0</td>\n",
              "      <td>0.0</td>\n",
              "      <td>95.0</td>\n",
              "      <td>11279.0</td>\n",
              "      <td>27.0</td>\n",
              "      <td>27.0</td>\n",
              "      <td>100.0</td>\n",
              "      <td>8.0</td>\n",
              "      <td>100.0</td>\n",
              "      <td>8.0</td>\n",
              "      <td>0.0</td>\n",
              "      <td>33166.0</td>\n",
              "      <td>5.609418e+10</td>\n",
              "      <td>1.356669e+11</td>\n",
              "      <td>181.0</td>\n",
              "    </tr>\n",
              "    <tr>\n",
              "      <th>3</th>\n",
              "      <td>107.0</td>\n",
              "      <td>12808544.0</td>\n",
              "      <td>92.0</td>\n",
              "      <td>8.0</td>\n",
              "      <td>100.0</td>\n",
              "      <td>8.0</td>\n",
              "      <td>87.0</td>\n",
              "      <td>587682537.0</td>\n",
              "      <td>64.0</td>\n",
              "      <td>31673.0</td>\n",
              "      <td>8.0</td>\n",
              "      <td>100.0</td>\n",
              "      <td>0.0</td>\n",
              "      <td>100.0</td>\n",
              "      <td>0.0</td>\n",
              "      <td>93.0</td>\n",
              "      <td>7.0</td>\n",
              "      <td>0.0</td>\n",
              "      <td>100.0</td>\n",
              "      <td>0.0</td>\n",
              "      <td>83.0</td>\n",
              "      <td>17.0</td>\n",
              "      <td>0.0</td>\n",
              "      <td>95.0</td>\n",
              "      <td>10221.0</td>\n",
              "      <td>17.0</td>\n",
              "      <td>17.0</td>\n",
              "      <td>100.0</td>\n",
              "      <td>16.0</td>\n",
              "      <td>100.0</td>\n",
              "      <td>16.0</td>\n",
              "      <td>0.0</td>\n",
              "      <td>31512.0</td>\n",
              "      <td>4.921086e+10</td>\n",
              "      <td>1.419216e+11</td>\n",
              "      <td>181.0</td>\n",
              "    </tr>\n",
              "    <tr>\n",
              "      <th>4</th>\n",
              "      <td>108.0</td>\n",
              "      <td>17344424.0</td>\n",
              "      <td>92.0</td>\n",
              "      <td>16.0</td>\n",
              "      <td>100.0</td>\n",
              "      <td>0.0</td>\n",
              "      <td>87.0</td>\n",
              "      <td>527426712.0</td>\n",
              "      <td>63.0</td>\n",
              "      <td>32714.0</td>\n",
              "      <td>16.0</td>\n",
              "      <td>98.0</td>\n",
              "      <td>2.0</td>\n",
              "      <td>100.0</td>\n",
              "      <td>0.0</td>\n",
              "      <td>98.0</td>\n",
              "      <td>2.0</td>\n",
              "      <td>0.0</td>\n",
              "      <td>100.0</td>\n",
              "      <td>0.0</td>\n",
              "      <td>79.0</td>\n",
              "      <td>21.0</td>\n",
              "      <td>0.0</td>\n",
              "      <td>96.0</td>\n",
              "      <td>8307.0</td>\n",
              "      <td>21.0</td>\n",
              "      <td>21.0</td>\n",
              "      <td>100.0</td>\n",
              "      <td>0.0</td>\n",
              "      <td>100.0</td>\n",
              "      <td>0.0</td>\n",
              "      <td>0.0</td>\n",
              "      <td>32619.0</td>\n",
              "      <td>4.736926e+10</td>\n",
              "      <td>1.450949e+11</td>\n",
              "      <td>181.0</td>\n",
              "    </tr>\n",
              "    <tr>\n",
              "      <th>...</th>\n",
              "      <td>...</td>\n",
              "      <td>...</td>\n",
              "      <td>...</td>\n",
              "      <td>...</td>\n",
              "      <td>...</td>\n",
              "      <td>...</td>\n",
              "      <td>...</td>\n",
              "      <td>...</td>\n",
              "      <td>...</td>\n",
              "      <td>...</td>\n",
              "      <td>...</td>\n",
              "      <td>...</td>\n",
              "      <td>...</td>\n",
              "      <td>...</td>\n",
              "      <td>...</td>\n",
              "      <td>...</td>\n",
              "      <td>...</td>\n",
              "      <td>...</td>\n",
              "      <td>...</td>\n",
              "      <td>...</td>\n",
              "      <td>...</td>\n",
              "      <td>...</td>\n",
              "      <td>...</td>\n",
              "      <td>...</td>\n",
              "      <td>...</td>\n",
              "      <td>...</td>\n",
              "      <td>...</td>\n",
              "      <td>...</td>\n",
              "      <td>...</td>\n",
              "      <td>...</td>\n",
              "      <td>...</td>\n",
              "      <td>...</td>\n",
              "      <td>...</td>\n",
              "      <td>...</td>\n",
              "      <td>...</td>\n",
              "      <td>...</td>\n",
              "    </tr>\n",
              "    <tr>\n",
              "      <th>19444</th>\n",
              "      <td>118.0</td>\n",
              "      <td>172800200.0</td>\n",
              "      <td>92.0</td>\n",
              "      <td>10.0</td>\n",
              "      <td>100.0</td>\n",
              "      <td>0.0</td>\n",
              "      <td>90.0</td>\n",
              "      <td>966047716.0</td>\n",
              "      <td>59.0</td>\n",
              "      <td>36285.0</td>\n",
              "      <td>10.0</td>\n",
              "      <td>98.0</td>\n",
              "      <td>2.0</td>\n",
              "      <td>100.0</td>\n",
              "      <td>0.0</td>\n",
              "      <td>100.0</td>\n",
              "      <td>0.0</td>\n",
              "      <td>0.0</td>\n",
              "      <td>100.0</td>\n",
              "      <td>0.0</td>\n",
              "      <td>75.0</td>\n",
              "      <td>25.0</td>\n",
              "      <td>0.0</td>\n",
              "      <td>98.0</td>\n",
              "      <td>5010.0</td>\n",
              "      <td>25.0</td>\n",
              "      <td>25.0</td>\n",
              "      <td>100.0</td>\n",
              "      <td>0.0</td>\n",
              "      <td>100.0</td>\n",
              "      <td>0.0</td>\n",
              "      <td>0.0</td>\n",
              "      <td>36228.0</td>\n",
              "      <td>5.677281e+10</td>\n",
              "      <td>1.795280e+11</td>\n",
              "      <td>352.0</td>\n",
              "    </tr>\n",
              "    <tr>\n",
              "      <th>19445</th>\n",
              "      <td>115.0</td>\n",
              "      <td>97559216.0</td>\n",
              "      <td>92.0</td>\n",
              "      <td>12.0</td>\n",
              "      <td>100.0</td>\n",
              "      <td>0.0</td>\n",
              "      <td>89.0</td>\n",
              "      <td>842025587.0</td>\n",
              "      <td>59.0</td>\n",
              "      <td>36308.0</td>\n",
              "      <td>12.0</td>\n",
              "      <td>100.0</td>\n",
              "      <td>0.0</td>\n",
              "      <td>100.0</td>\n",
              "      <td>0.0</td>\n",
              "      <td>98.0</td>\n",
              "      <td>2.0</td>\n",
              "      <td>0.0</td>\n",
              "      <td>100.0</td>\n",
              "      <td>0.0</td>\n",
              "      <td>76.0</td>\n",
              "      <td>24.0</td>\n",
              "      <td>0.0</td>\n",
              "      <td>95.0</td>\n",
              "      <td>11985.0</td>\n",
              "      <td>24.0</td>\n",
              "      <td>24.0</td>\n",
              "      <td>100.0</td>\n",
              "      <td>0.0</td>\n",
              "      <td>100.0</td>\n",
              "      <td>0.0</td>\n",
              "      <td>0.0</td>\n",
              "      <td>36217.0</td>\n",
              "      <td>5.310688e+10</td>\n",
              "      <td>2.165311e+11</td>\n",
              "      <td>353.0</td>\n",
              "    </tr>\n",
              "    <tr>\n",
              "      <th>19446</th>\n",
              "      <td>117.0</td>\n",
              "      <td>156097360.0</td>\n",
              "      <td>92.0</td>\n",
              "      <td>10.0</td>\n",
              "      <td>100.0</td>\n",
              "      <td>0.0</td>\n",
              "      <td>90.0</td>\n",
              "      <td>968258888.0</td>\n",
              "      <td>59.0</td>\n",
              "      <td>36309.0</td>\n",
              "      <td>10.0</td>\n",
              "      <td>98.0</td>\n",
              "      <td>2.0</td>\n",
              "      <td>100.0</td>\n",
              "      <td>0.0</td>\n",
              "      <td>100.0</td>\n",
              "      <td>0.0</td>\n",
              "      <td>0.0</td>\n",
              "      <td>100.0</td>\n",
              "      <td>0.0</td>\n",
              "      <td>75.0</td>\n",
              "      <td>25.0</td>\n",
              "      <td>0.0</td>\n",
              "      <td>98.0</td>\n",
              "      <td>5013.0</td>\n",
              "      <td>25.0</td>\n",
              "      <td>25.0</td>\n",
              "      <td>100.0</td>\n",
              "      <td>0.0</td>\n",
              "      <td>100.0</td>\n",
              "      <td>0.0</td>\n",
              "      <td>0.0</td>\n",
              "      <td>36252.0</td>\n",
              "      <td>5.678595e+10</td>\n",
              "      <td>1.798410e+11</td>\n",
              "      <td>353.0</td>\n",
              "    </tr>\n",
              "    <tr>\n",
              "      <th>19447</th>\n",
              "      <td>111.0</td>\n",
              "      <td>62045744.0</td>\n",
              "      <td>92.0</td>\n",
              "      <td>12.0</td>\n",
              "      <td>100.0</td>\n",
              "      <td>0.0</td>\n",
              "      <td>89.0</td>\n",
              "      <td>843302032.0</td>\n",
              "      <td>59.0</td>\n",
              "      <td>36332.0</td>\n",
              "      <td>12.0</td>\n",
              "      <td>100.0</td>\n",
              "      <td>0.0</td>\n",
              "      <td>100.0</td>\n",
              "      <td>0.0</td>\n",
              "      <td>97.0</td>\n",
              "      <td>3.0</td>\n",
              "      <td>0.0</td>\n",
              "      <td>100.0</td>\n",
              "      <td>0.0</td>\n",
              "      <td>76.0</td>\n",
              "      <td>24.0</td>\n",
              "      <td>0.0</td>\n",
              "      <td>95.0</td>\n",
              "      <td>11985.0</td>\n",
              "      <td>24.0</td>\n",
              "      <td>24.0</td>\n",
              "      <td>100.0</td>\n",
              "      <td>24.0</td>\n",
              "      <td>100.0</td>\n",
              "      <td>24.0</td>\n",
              "      <td>0.0</td>\n",
              "      <td>36241.0</td>\n",
              "      <td>5.311607e+10</td>\n",
              "      <td>2.166948e+11</td>\n",
              "      <td>354.0</td>\n",
              "    </tr>\n",
              "    <tr>\n",
              "      <th>19448</th>\n",
              "      <td>116.0</td>\n",
              "      <td>101115736.0</td>\n",
              "      <td>92.0</td>\n",
              "      <td>10.0</td>\n",
              "      <td>100.0</td>\n",
              "      <td>0.0</td>\n",
              "      <td>90.0</td>\n",
              "      <td>970607127.0</td>\n",
              "      <td>59.0</td>\n",
              "      <td>36333.0</td>\n",
              "      <td>10.0</td>\n",
              "      <td>98.0</td>\n",
              "      <td>2.0</td>\n",
              "      <td>100.0</td>\n",
              "      <td>0.0</td>\n",
              "      <td>100.0</td>\n",
              "      <td>0.0</td>\n",
              "      <td>0.0</td>\n",
              "      <td>100.0</td>\n",
              "      <td>0.0</td>\n",
              "      <td>75.0</td>\n",
              "      <td>25.0</td>\n",
              "      <td>0.0</td>\n",
              "      <td>98.0</td>\n",
              "      <td>5013.0</td>\n",
              "      <td>25.0</td>\n",
              "      <td>25.0</td>\n",
              "      <td>100.0</td>\n",
              "      <td>0.0</td>\n",
              "      <td>100.0</td>\n",
              "      <td>0.0</td>\n",
              "      <td>0.0</td>\n",
              "      <td>36275.0</td>\n",
              "      <td>5.679621e+10</td>\n",
              "      <td>1.800540e+11</td>\n",
              "      <td>354.0</td>\n",
              "    </tr>\n",
              "  </tbody>\n",
              "</table>\n",
              "<p>19449 rows × 36 columns</p>\n",
              "</div>"
            ],
            "text/plain": [
              "       smart_1_normalized  smart_1_raw  ...  smart_242_raw   days\n",
              "0                   117.0  128870072.0  ...   1.488980e+11  181.0\n",
              "1                   119.0  222985768.0  ...   1.437131e+11  181.0\n",
              "2                   116.0  116254936.0  ...   1.356669e+11  181.0\n",
              "3                   107.0   12808544.0  ...   1.419216e+11  181.0\n",
              "4                   108.0   17344424.0  ...   1.450949e+11  181.0\n",
              "...                   ...          ...  ...            ...    ...\n",
              "19444               118.0  172800200.0  ...   1.795280e+11  352.0\n",
              "19445               115.0   97559216.0  ...   2.165311e+11  353.0\n",
              "19446               117.0  156097360.0  ...   1.798410e+11  353.0\n",
              "19447               111.0   62045744.0  ...   2.166948e+11  354.0\n",
              "19448               116.0  101115736.0  ...   1.800540e+11  354.0\n",
              "\n",
              "[19449 rows x 36 columns]"
            ]
          },
          "metadata": {
            "tags": []
          },
          "execution_count": 38
        }
      ]
    },
    {
      "cell_type": "code",
      "metadata": {
        "id": "6Xk6YS1DDSDY"
      },
      "source": [
        "start=pd.to_datetime(X_train['date'], yearfirst=True)[0]"
      ],
      "execution_count": null,
      "outputs": []
    },
    {
      "cell_type": "code",
      "metadata": {
        "id": "KkiwYyyoC12X"
      },
      "source": [
        "f=((pd.to_datetime(X_train['date'], yearfirst=True))-start)/ np.timedelta64(1,'D')\r\n",
        "g=((pd.to_datetime(X_test['date'], yearfirst=True))-start)/ np.timedelta64(1,'D')"
      ],
      "execution_count": null,
      "outputs": []
    },
    {
      "cell_type": "code",
      "metadata": {
        "colab": {
          "base_uri": "https://localhost:8080/"
        },
        "id": "pMo5CHkZD03v",
        "outputId": "65add57f-23d5-443d-c0c6-e209709c2fe5"
      },
      "source": [
        "f"
      ],
      "execution_count": null,
      "outputs": [
        {
          "output_type": "execute_result",
          "data": {
            "text/plain": [
              "0          0.0\n",
              "1          0.0\n",
              "2          0.0\n",
              "3          0.0\n",
              "4          0.0\n",
              "         ...  \n",
              "95249    181.0\n",
              "95250    181.0\n",
              "95251    181.0\n",
              "95252    181.0\n",
              "95253    181.0\n",
              "Name: date, Length: 95254, dtype: float64"
            ]
          },
          "metadata": {
            "tags": []
          },
          "execution_count": 23
        }
      ]
    },
    {
      "cell_type": "code",
      "metadata": {
        "id": "vAUhT60hD_oe"
      },
      "source": [
        "X_train['days']=f\r\n",
        "X_test['days']=g\r\n"
      ],
      "execution_count": null,
      "outputs": []
    },
    {
      "cell_type": "code",
      "metadata": {
        "id": "07jrk-oiFfIt"
      },
      "source": [
        ""
      ],
      "execution_count": null,
      "outputs": []
    },
    {
      "cell_type": "code",
      "metadata": {
        "id": "Kvimo1BsCknm"
      },
      "source": [
        "xtrain=X_train.iloc[:,col_select]\r\n",
        "xtest=X_test.iloc[:,col_select]"
      ],
      "execution_count": null,
      "outputs": []
    },
    {
      "cell_type": "code",
      "metadata": {
        "id": "eXzeRjaASkb5"
      },
      "source": [
        "xtrain.to_csv('/content/drive/MyDrive/Analysis_Deta/2019/Model_Inputs/xtrain_tree.csv')\r\n",
        "xtest.to_csv('/content/drive/MyDrive/Analysis_Deta/2019/Model_Inputs/xtest_tree.csv')"
      ],
      "execution_count": null,
      "outputs": []
    },
    {
      "cell_type": "code",
      "metadata": {
        "id": "hINOO9k4SnY4"
      },
      "source": [
        "ytrain.to_csv('/content/drive/MyDrive/Analysis_Deta/2019/Model_Inputs/ytrain.csv')\r\n",
        "ytest.to_csv('/content/drive/MyDrive/Analysis_Deta/2019/Model_Inputs/ytest.csv')"
      ],
      "execution_count": null,
      "outputs": []
    },
    {
      "cell_type": "code",
      "metadata": {
        "colab": {
          "base_uri": "https://localhost:8080/"
        },
        "id": "24Ebn9cDGEhZ",
        "outputId": "e4919601-6900-41c1-e56e-d1121946bd3f"
      },
      "source": [
        "xtrain.isnull().any()"
      ],
      "execution_count": null,
      "outputs": [
        {
          "output_type": "execute_result",
          "data": {
            "text/plain": [
              "smart_1_normalized       True\n",
              "smart_1_raw              True\n",
              "smart_3_normalized       True\n",
              "smart_4_raw              True\n",
              "smart_5_normalized       True\n",
              "smart_5_raw              True\n",
              "smart_7_normalized       True\n",
              "smart_7_raw              True\n",
              "smart_9_normalized       True\n",
              "smart_9_raw              True\n",
              "smart_12_raw             True\n",
              "smart_183_normalized     True\n",
              "smart_183_raw            True\n",
              "smart_184_normalized     True\n",
              "smart_184_raw            True\n",
              "smart_187_normalized     True\n",
              "smart_187_raw            True\n",
              "smart_188_raw            True\n",
              "smart_189_normalized     True\n",
              "smart_189_raw            True\n",
              "smart_190_normalized     True\n",
              "smart_190_raw            True\n",
              "smart_192_raw            True\n",
              "smart_193_normalized     True\n",
              "smart_193_raw            True\n",
              "smart_194_normalized     True\n",
              "smart_194_raw            True\n",
              "smart_197_normalized     True\n",
              "smart_197_raw            True\n",
              "smart_198_normalized     True\n",
              "smart_198_raw            True\n",
              "smart_199_raw            True\n",
              "smart_240_raw            True\n",
              "smart_241_raw            True\n",
              "smart_242_raw            True\n",
              "days                    False\n",
              "dtype: bool"
            ]
          },
          "metadata": {
            "tags": []
          },
          "execution_count": 71
        }
      ]
    },
    {
      "cell_type": "code",
      "metadata": {
        "colab": {
          "base_uri": "https://localhost:8080/"
        },
        "id": "thGbPJleGQhl",
        "outputId": "88245117-5a7b-4b3b-bce6-6e6f6e6072ef"
      },
      "source": [
        "xtest.isnull().any()"
      ],
      "execution_count": null,
      "outputs": [
        {
          "output_type": "execute_result",
          "data": {
            "text/plain": [
              "smart_1_normalized      False\n",
              "smart_1_raw             False\n",
              "smart_3_normalized      False\n",
              "smart_4_raw             False\n",
              "smart_5_normalized      False\n",
              "smart_5_raw             False\n",
              "smart_7_normalized      False\n",
              "smart_7_raw             False\n",
              "smart_9_normalized      False\n",
              "smart_9_raw             False\n",
              "smart_12_raw            False\n",
              "smart_183_normalized    False\n",
              "smart_183_raw           False\n",
              "smart_184_normalized    False\n",
              "smart_184_raw           False\n",
              "smart_187_normalized    False\n",
              "smart_187_raw           False\n",
              "smart_188_raw           False\n",
              "smart_189_normalized    False\n",
              "smart_189_raw           False\n",
              "smart_190_normalized    False\n",
              "smart_190_raw           False\n",
              "smart_192_raw           False\n",
              "smart_193_normalized    False\n",
              "smart_193_raw           False\n",
              "smart_194_normalized    False\n",
              "smart_194_raw           False\n",
              "smart_197_normalized    False\n",
              "smart_197_raw           False\n",
              "smart_198_normalized    False\n",
              "smart_198_raw           False\n",
              "smart_199_raw           False\n",
              "smart_240_raw           False\n",
              "smart_241_raw           False\n",
              "smart_242_raw           False\n",
              "days                    False\n",
              "dtype: bool"
            ]
          },
          "metadata": {
            "tags": []
          },
          "execution_count": 64
        }
      ]
    },
    {
      "cell_type": "code",
      "metadata": {
        "id": "lAktbpPEFg3Q"
      },
      "source": [
        "ytrain=X_train['perform']\r\n",
        "ytest=X_test['perform']"
      ],
      "execution_count": null,
      "outputs": []
    },
    {
      "cell_type": "code",
      "metadata": {
        "colab": {
          "base_uri": "https://localhost:8080/"
        },
        "id": "FN2LzUQ_GFZf",
        "outputId": "d6c4882b-5af9-44c8-f2bf-c01099d227b8"
      },
      "source": [
        "ytest.isnull().any()"
      ],
      "execution_count": null,
      "outputs": [
        {
          "output_type": "execute_result",
          "data": {
            "text/plain": [
              "False"
            ]
          },
          "metadata": {
            "tags": []
          },
          "execution_count": 65
        }
      ]
    },
    {
      "cell_type": "code",
      "metadata": {
        "id": "uikXBlyyGhnT"
      },
      "source": [
        "to_drop=[]\r\n",
        "for i in X_train.columns:\r\n",
        "  try:\r\n",
        "    index = X_train[i].index[X_train[i].apply(np.isnan)]\r\n",
        "    to_drop.append(index)\r\n",
        "  except:\r\n",
        "    pass"
      ],
      "execution_count": null,
      "outputs": []
    },
    {
      "cell_type": "code",
      "metadata": {
        "colab": {
          "base_uri": "https://localhost:8080/"
        },
        "id": "9pfSr82qGsk_",
        "outputId": "65d2cdeb-7f59-4fc2-bd82-ed259b18f122"
      },
      "source": [
        "to_drop"
      ],
      "execution_count": null,
      "outputs": [
        {
          "output_type": "execute_result",
          "data": {
            "text/plain": [
              "[Int64Index([], dtype='int64'),\n",
              " Int64Index([], dtype='int64'),\n",
              " Int64Index([], dtype='int64'),\n",
              " Int64Index([], dtype='int64'),\n",
              " Int64Index([15739, 20315, 20316, 22178, 44588, 71723], dtype='int64'),\n",
              " Int64Index([15739, 20315, 20316, 22178, 44588, 71723], dtype='int64'),\n",
              " Int64Index([15739, 20315, 20316, 22178, 44588, 71723], dtype='int64'),\n",
              " Int64Index([15739, 20315, 20316, 22178, 44588, 71723], dtype='int64'),\n",
              " Int64Index([15739, 20315, 20316, 22178, 44588, 71723], dtype='int64'),\n",
              " Int64Index([15739, 20315, 20316, 22178, 44588, 71723], dtype='int64'),\n",
              " Int64Index([15739, 20315, 20316, 22178, 44588, 71723], dtype='int64'),\n",
              " Int64Index([15739, 20315, 20316, 22178, 44588, 71723], dtype='int64'),\n",
              " Int64Index([15739, 20315, 20316, 22178, 44588, 71723], dtype='int64'),\n",
              " Int64Index([15739, 20315, 20316, 22178, 44588, 71723], dtype='int64'),\n",
              " Int64Index([15739, 20315, 20316, 22178, 44588, 71723], dtype='int64'),\n",
              " Int64Index([15739, 20315, 20316, 22178, 44588, 71723], dtype='int64'),\n",
              " Int64Index([15739, 20315, 20316, 22178, 44588, 71723], dtype='int64'),\n",
              " Int64Index([15739, 20315, 20316, 22178, 44588, 71723], dtype='int64'),\n",
              " Int64Index([15739, 20315, 20316, 22178, 44588, 71723], dtype='int64'),\n",
              " Int64Index([15739, 20315, 20316, 22178, 44588, 71723], dtype='int64'),\n",
              " Int64Index([15739, 20315, 20316, 22178, 44588, 71723], dtype='int64'),\n",
              " Int64Index([15739, 20315, 20316, 22178, 44588, 71723], dtype='int64'),\n",
              " Int64Index([15739, 20315, 20316, 22178, 44588, 71723], dtype='int64'),\n",
              " Int64Index([15739, 20315, 20316, 22178, 44588, 71723], dtype='int64'),\n",
              " Int64Index([15739, 20315, 20316, 22178, 44588, 71723], dtype='int64'),\n",
              " Int64Index([15739, 20315, 20316, 22178, 44588, 71723], dtype='int64'),\n",
              " Int64Index([15739, 20315, 20316, 22178, 44588, 71723], dtype='int64'),\n",
              " Int64Index([15739, 20315, 20316, 22178, 44588, 71723], dtype='int64'),\n",
              " Int64Index([15739, 20315, 20316, 22178, 44588, 71723], dtype='int64'),\n",
              " Int64Index([15739, 20315, 20316, 22178, 44588, 71723], dtype='int64'),\n",
              " Int64Index([15739, 20315, 20316, 22178, 44588, 71723], dtype='int64'),\n",
              " Int64Index([15739, 20315, 20316, 22178, 44588, 71723], dtype='int64'),\n",
              " Int64Index([15739, 20315, 20316, 22178, 44588, 71723], dtype='int64'),\n",
              " Int64Index([15739, 20315, 20316, 22178, 44588, 71723], dtype='int64'),\n",
              " Int64Index([15739, 20315, 20316, 22178, 44588, 71723], dtype='int64'),\n",
              " Int64Index([15739, 20315, 20316, 22178, 44588, 71723], dtype='int64'),\n",
              " Int64Index([15739, 20315, 20316, 22178, 44588, 71723], dtype='int64'),\n",
              " Int64Index([15739, 20315, 20316, 22178, 44588, 71723], dtype='int64'),\n",
              " Int64Index([15739, 20315, 20316, 22178, 44588, 71723], dtype='int64'),\n",
              " Int64Index([], dtype='int64'),\n",
              " Int64Index([], dtype='int64')]"
            ]
          },
          "metadata": {
            "tags": []
          },
          "execution_count": 75
        }
      ]
    },
    {
      "cell_type": "code",
      "metadata": {
        "id": "NiyEf_c8HnOZ"
      },
      "source": [
        "remov=[15739, 20315, 20316, 22178, 44588, 71723]"
      ],
      "execution_count": null,
      "outputs": []
    },
    {
      "cell_type": "code",
      "metadata": {
        "id": "1zoYzk5xHqhb"
      },
      "source": [
        "xtrain=xtrain.drop(remov)\r\n",
        "ytrain=ytrain.drop(remov)"
      ],
      "execution_count": null,
      "outputs": []
    },
    {
      "cell_type": "code",
      "metadata": {
        "colab": {
          "base_uri": "https://localhost:8080/",
          "height": 131
        },
        "id": "DwU4avreHuBZ",
        "outputId": "650ee78d-7911-4621-8ce6-f189f2289a1b"
      },
      "source": [
        "xtrain.head(2)"
      ],
      "execution_count": null,
      "outputs": [
        {
          "output_type": "execute_result",
          "data": {
            "text/html": [
              "<div>\n",
              "<style scoped>\n",
              "    .dataframe tbody tr th:only-of-type {\n",
              "        vertical-align: middle;\n",
              "    }\n",
              "\n",
              "    .dataframe tbody tr th {\n",
              "        vertical-align: top;\n",
              "    }\n",
              "\n",
              "    .dataframe thead th {\n",
              "        text-align: right;\n",
              "    }\n",
              "</style>\n",
              "<table border=\"1\" class=\"dataframe\">\n",
              "  <thead>\n",
              "    <tr style=\"text-align: right;\">\n",
              "      <th></th>\n",
              "      <th>smart_1_normalized</th>\n",
              "      <th>smart_1_raw</th>\n",
              "      <th>smart_3_normalized</th>\n",
              "      <th>smart_4_raw</th>\n",
              "      <th>smart_5_normalized</th>\n",
              "      <th>smart_5_raw</th>\n",
              "      <th>smart_7_normalized</th>\n",
              "      <th>smart_7_raw</th>\n",
              "      <th>smart_9_normalized</th>\n",
              "      <th>smart_9_raw</th>\n",
              "      <th>smart_12_raw</th>\n",
              "      <th>smart_183_normalized</th>\n",
              "      <th>smart_183_raw</th>\n",
              "      <th>smart_184_normalized</th>\n",
              "      <th>smart_184_raw</th>\n",
              "      <th>smart_187_normalized</th>\n",
              "      <th>smart_187_raw</th>\n",
              "      <th>smart_188_raw</th>\n",
              "      <th>smart_189_normalized</th>\n",
              "      <th>smart_189_raw</th>\n",
              "      <th>smart_190_normalized</th>\n",
              "      <th>smart_190_raw</th>\n",
              "      <th>smart_192_raw</th>\n",
              "      <th>smart_193_normalized</th>\n",
              "      <th>smart_193_raw</th>\n",
              "      <th>smart_194_normalized</th>\n",
              "      <th>smart_194_raw</th>\n",
              "      <th>smart_197_normalized</th>\n",
              "      <th>smart_197_raw</th>\n",
              "      <th>smart_198_normalized</th>\n",
              "      <th>smart_198_raw</th>\n",
              "      <th>smart_199_raw</th>\n",
              "      <th>smart_240_raw</th>\n",
              "      <th>smart_241_raw</th>\n",
              "      <th>smart_242_raw</th>\n",
              "      <th>days</th>\n",
              "    </tr>\n",
              "  </thead>\n",
              "  <tbody>\n",
              "    <tr>\n",
              "      <th>0</th>\n",
              "      <td>119.0</td>\n",
              "      <td>231195280.0</td>\n",
              "      <td>93.0</td>\n",
              "      <td>7.0</td>\n",
              "      <td>100.0</td>\n",
              "      <td>0.0</td>\n",
              "      <td>87.0</td>\n",
              "      <td>526658972.0</td>\n",
              "      <td>65.0</td>\n",
              "      <td>30873.0</td>\n",
              "      <td>7.0</td>\n",
              "      <td>100.0</td>\n",
              "      <td>0.0</td>\n",
              "      <td>100.0</td>\n",
              "      <td>0.0</td>\n",
              "      <td>100.0</td>\n",
              "      <td>0.0</td>\n",
              "      <td>0.0</td>\n",
              "      <td>100.0</td>\n",
              "      <td>0.0</td>\n",
              "      <td>76.0</td>\n",
              "      <td>24.0</td>\n",
              "      <td>0.0</td>\n",
              "      <td>81.0</td>\n",
              "      <td>38399.0</td>\n",
              "      <td>24.0</td>\n",
              "      <td>24.0</td>\n",
              "      <td>100.0</td>\n",
              "      <td>0.0</td>\n",
              "      <td>100.0</td>\n",
              "      <td>0.0</td>\n",
              "      <td>0.0</td>\n",
              "      <td>30503.0</td>\n",
              "      <td>5.403677e+10</td>\n",
              "      <td>1.219510e+11</td>\n",
              "      <td>0.0</td>\n",
              "    </tr>\n",
              "    <tr>\n",
              "      <th>1</th>\n",
              "      <td>119.0</td>\n",
              "      <td>208663312.0</td>\n",
              "      <td>92.0</td>\n",
              "      <td>9.0</td>\n",
              "      <td>100.0</td>\n",
              "      <td>0.0</td>\n",
              "      <td>86.0</td>\n",
              "      <td>429695685.0</td>\n",
              "      <td>68.0</td>\n",
              "      <td>28392.0</td>\n",
              "      <td>9.0</td>\n",
              "      <td>98.0</td>\n",
              "      <td>2.0</td>\n",
              "      <td>100.0</td>\n",
              "      <td>0.0</td>\n",
              "      <td>100.0</td>\n",
              "      <td>0.0</td>\n",
              "      <td>0.0</td>\n",
              "      <td>100.0</td>\n",
              "      <td>0.0</td>\n",
              "      <td>77.0</td>\n",
              "      <td>23.0</td>\n",
              "      <td>0.0</td>\n",
              "      <td>97.0</td>\n",
              "      <td>7273.0</td>\n",
              "      <td>23.0</td>\n",
              "      <td>23.0</td>\n",
              "      <td>100.0</td>\n",
              "      <td>0.0</td>\n",
              "      <td>100.0</td>\n",
              "      <td>0.0</td>\n",
              "      <td>0.0</td>\n",
              "      <td>28300.0</td>\n",
              "      <td>4.796113e+10</td>\n",
              "      <td>1.341161e+11</td>\n",
              "      <td>0.0</td>\n",
              "    </tr>\n",
              "  </tbody>\n",
              "</table>\n",
              "</div>"
            ],
            "text/plain": [
              "   smart_1_normalized  smart_1_raw  ...  smart_242_raw  days\n",
              "0               119.0  231195280.0  ...   1.219510e+11   0.0\n",
              "1               119.0  208663312.0  ...   1.341161e+11   0.0\n",
              "\n",
              "[2 rows x 36 columns]"
            ]
          },
          "metadata": {
            "tags": []
          },
          "execution_count": 79
        }
      ]
    },
    {
      "cell_type": "code",
      "metadata": {
        "colab": {
          "base_uri": "https://localhost:8080/"
        },
        "id": "3ZJpLGmEIdvm",
        "outputId": "7490302c-5c8d-45fe-d3d8-c3dadd98c641"
      },
      "source": [
        "len(xtrain)"
      ],
      "execution_count": null,
      "outputs": [
        {
          "output_type": "execute_result",
          "data": {
            "text/plain": [
              "95248"
            ]
          },
          "metadata": {
            "tags": []
          },
          "execution_count": 77
        }
      ]
    },
    {
      "cell_type": "code",
      "metadata": {
        "colab": {
          "base_uri": "https://localhost:8080/"
        },
        "id": "SAYb_QcUGKsP",
        "outputId": "b3ad8d3d-fb13-4fa6-d846-dee1ef98edb0"
      },
      "source": [
        "ytrain"
      ],
      "execution_count": null,
      "outputs": [
        {
          "output_type": "execute_result",
          "data": {
            "text/plain": [
              "0        11\n",
              "1         7\n",
              "2         7\n",
              "3         7\n",
              "4         8\n",
              "         ..\n",
              "95249     8\n",
              "95250    10\n",
              "95251     9\n",
              "95252    10\n",
              "95253    10\n",
              "Name: perform, Length: 95248, dtype: int64"
            ]
          },
          "metadata": {
            "tags": []
          },
          "execution_count": 78
        }
      ]
    },
    {
      "cell_type": "code",
      "metadata": {
        "colab": {
          "base_uri": "https://localhost:8080/"
        },
        "id": "fHSYrpuvBdyL",
        "outputId": "a96cbc42-0567-4c9f-bdb6-915aa7e01099"
      },
      "source": [
        "clf = ExtraTreesClassifier(n_estimators=100)\r\n",
        "print(clf)\r\n",
        "\r\n",
        "ExtraTreesClassifier(bootstrap=False, ccp_alpha=0.0, class_weight=None,\r\n",
        "                     criterion='gini', max_depth=None, max_features='auto',\r\n",
        "                     max_leaf_nodes=None, max_samples=None,\r\n",
        "                     min_impurity_decrease=0.0, min_impurity_split=None,\r\n",
        "                     min_samples_leaf=1, min_samples_split=2,\r\n",
        "                     min_weight_fraction_leaf=0.0, n_estimators=100,\r\n",
        "                     n_jobs=None, oob_score=False, random_state=None, verbose=0,\r\n",
        "                     warm_start=False) "
      ],
      "execution_count": null,
      "outputs": [
        {
          "output_type": "stream",
          "text": [
            "ExtraTreesClassifier(bootstrap=False, ccp_alpha=0.0, class_weight=None,\n",
            "                     criterion='gini', max_depth=None, max_features='auto',\n",
            "                     max_leaf_nodes=None, max_samples=None,\n",
            "                     min_impurity_decrease=0.0, min_impurity_split=None,\n",
            "                     min_samples_leaf=1, min_samples_split=2,\n",
            "                     min_weight_fraction_leaf=0.0, n_estimators=100,\n",
            "                     n_jobs=None, oob_score=False, random_state=None, verbose=0,\n",
            "                     warm_start=False)\n"
          ],
          "name": "stdout"
        },
        {
          "output_type": "execute_result",
          "data": {
            "text/plain": [
              "ExtraTreesClassifier(bootstrap=False, ccp_alpha=0.0, class_weight=None,\n",
              "                     criterion='gini', max_depth=None, max_features='auto',\n",
              "                     max_leaf_nodes=None, max_samples=None,\n",
              "                     min_impurity_decrease=0.0, min_impurity_split=None,\n",
              "                     min_samples_leaf=1, min_samples_split=2,\n",
              "                     min_weight_fraction_leaf=0.0, n_estimators=100,\n",
              "                     n_jobs=None, oob_score=False, random_state=None, verbose=0,\n",
              "                     warm_start=False)"
            ]
          },
          "metadata": {
            "tags": []
          },
          "execution_count": 7
        }
      ]
    },
    {
      "cell_type": "code",
      "metadata": {
        "colab": {
          "base_uri": "https://localhost:8080/"
        },
        "id": "IEzxr6J4Bojr",
        "outputId": "64c6c59e-0161-4a11-f284-74281427a016"
      },
      "source": [
        "clf.fit(xtrain, ytrain)\r\n",
        "\r\n",
        "score = clf.score(xtrain, ytrain)\r\n",
        "print(\"Score: \", score)"
      ],
      "execution_count": null,
      "outputs": [
        {
          "output_type": "stream",
          "text": [
            "Score:  1.0\n"
          ],
          "name": "stdout"
        }
      ]
    },
    {
      "cell_type": "code",
      "metadata": {
        "colab": {
          "base_uri": "https://localhost:8080/"
        },
        "id": "0RsNT5f1Jlnw",
        "outputId": "d06620fc-717b-4578-9f5e-ed849413b061"
      },
      "source": [
        "cv_scores = cross_val_score(clf, xtrain, ytrain, cv=5 )\r\n",
        "print(\"CV average score: %.2f\" % cv_scores.mean())\r\n"
      ],
      "execution_count": null,
      "outputs": [
        {
          "output_type": "stream",
          "text": [
            "CV average score: 0.93\n"
          ],
          "name": "stdout"
        }
      ]
    },
    {
      "cell_type": "code",
      "metadata": {
        "colab": {
          "base_uri": "https://localhost:8080/"
        },
        "id": "tuuh4XX_J2hf",
        "outputId": "b87cfde2-3328-4528-e91b-1383b5040d7a"
      },
      "source": [
        "#@title Default title text\n",
        "ypred = clf.predict(xtest)\n",
        "\n",
        "cm = confusion_matrix(ytest, ypred)\n",
        "print(cm)"
      ],
      "execution_count": null,
      "outputs": [
        {
          "output_type": "stream",
          "text": [
            "[[  60    0    0    0    0    0    0    0    0]\n",
            " [   0  125   70    0    0    0    0    0    0]\n",
            " [   0    0  122    0    0    0    0    0    0]\n",
            " [   0    0    0  498   61  133   25    0    0]\n",
            " [   0    0    0    0 2098  284  370    0    0]\n",
            " [   0    0    0    0   31 4059 1822  112    0]\n",
            " [   0    0    0    0    2  189 7442  317    0]\n",
            " [   0    0    0    0    0    0  100 1137    0]\n",
            " [   0    0    0    0    0    0    0    0  392]]\n"
          ],
          "name": "stdout"
        }
      ]
    },
    {
      "cell_type": "code",
      "metadata": {
        "colab": {
          "base_uri": "https://localhost:8080/"
        },
        "id": "pkH9XCfaLFDG",
        "outputId": "6952b3cd-0df2-4932-8809-328b34231bed"
      },
      "source": [
        "print(\"Accuracy:\",metrics.accuracy_score(ytest, ypred))"
      ],
      "execution_count": null,
      "outputs": [
        {
          "output_type": "stream",
          "text": [
            "Accuracy: 0.8192194971463829\n"
          ],
          "name": "stdout"
        }
      ]
    },
    {
      "cell_type": "code",
      "metadata": {
        "id": "b6Z_6kjLlDsE"
      },
      "source": [
        ""
      ],
      "execution_count": null,
      "outputs": []
    },
    {
      "cell_type": "code",
      "metadata": {
        "colab": {
          "base_uri": "https://localhost:8080/",
          "height": 282
        },
        "id": "8OGsybWHJ-KK",
        "outputId": "78596c0d-c438-4dc9-adb3-3a3e482107cb"
      },
      "source": [
        "plt.scatter(ytest,ypred)"
      ],
      "execution_count": null,
      "outputs": [
        {
          "output_type": "execute_result",
          "data": {
            "text/plain": [
              "<matplotlib.collections.PathCollection at 0x7f4705adbeb8>"
            ]
          },
          "metadata": {
            "tags": []
          },
          "execution_count": 83
        },
        {
          "output_type": "display_data",
          "data": {
            "image/png": "[encoded data removed]",
            "text/plain": [
              "<Figure size 432x288 with 1 Axes>"
            ]
          },
          "metadata": {
            "tags": [],
            "needs_background": "light"
          }
        }
      ]
    },
    {
      "cell_type": "code",
      "metadata": {
        "id": "-QWotJ78LRUV"
      },
      "source": [
        "from sklearn.tree import export_graphviz\r\n",
        "from sklearn.externals.six import StringIO  \r\n",
        "from IPython.display import Image  \r\n",
        "import pydotplus\r\n",
        "from sklearn import tree\r\n"
      ],
      "execution_count": null,
      "outputs": []
    },
    {
      "cell_type": "code",
      "metadata": {
        "colab": {
          "base_uri": "https://localhost:8080/"
        },
        "id": "4OsGLMEeQ0QJ",
        "outputId": "872b083c-ed67-4e6e-b918-4bb1a35a293c"
      },
      "source": [
        "clf.feature_importances_"
      ],
      "execution_count": null,
      "outputs": [
        {
          "output_type": "execute_result",
          "data": {
            "text/plain": [
              "array([9.26842154e-04, 9.91891866e-04, 6.35497370e-02, 5.97068581e-02,\n",
              "       2.86279356e-03, 1.11670327e-02, 2.92323271e-02, 3.74822972e-02,\n",
              "       3.66838038e-02, 4.20225479e-02, 6.18279558e-02, 3.34255882e-02,\n",
              "       3.28590032e-02, 3.59809369e-03, 3.92837245e-03, 3.34146210e-02,\n",
              "       3.46183194e-02, 4.53972577e-03, 2.87720330e-04, 2.73923080e-04,\n",
              "       2.28969939e-02, 2.37628871e-02, 1.97830121e-02, 7.66116183e-02,\n",
              "       8.98604685e-02, 2.32901686e-02, 2.30903946e-02, 2.54836175e-05,\n",
              "       1.80088651e-02, 1.53922167e-05, 1.72760213e-02, 8.35236688e-03,\n",
              "       3.81155469e-02, 7.56135191e-02, 4.90768693e-02, 2.08209382e-02])"
            ]
          },
          "metadata": {
            "tags": []
          },
          "execution_count": 102
        }
      ]
    },
    {
      "cell_type": "code",
      "metadata": {
        "colab": {
          "base_uri": "https://localhost:8080/"
        },
        "id": "nnTZckrjRMy0",
        "outputId": "480cb7f2-d6b9-4e1b-d170-d96c922453e7"
      },
      "source": [
        "len(clf.feature_importances_)"
      ],
      "execution_count": null,
      "outputs": [
        {
          "output_type": "execute_result",
          "data": {
            "text/plain": [
              "36"
            ]
          },
          "metadata": {
            "tags": []
          },
          "execution_count": 103
        }
      ]
    },
    {
      "cell_type": "code",
      "metadata": {
        "id": "B-rZqO4ZLX36"
      },
      "source": [
        "dot_data = StringIO()\r\n",
        "export_graphviz(clf, out_file=dot_data,  filled=True, rounded=True,special_characters=True,feature_names = xtrain.columns,class_names=['0','1'])\r\n",
        "graph = pydotplus.graph_from_dot_data(dot_data.getvalue())  \r\n",
        "graph.write_png('hard_drive_classification.png')\r\n",
        "Image(graph.create_png())"
      ],
      "execution_count": null,
      "outputs": []
    }
  ]
}