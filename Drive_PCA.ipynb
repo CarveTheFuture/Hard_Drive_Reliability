{
  "nbformat": 4,
  "nbformat_minor": 0,
  "metadata": {
    "colab": {
      "name": "Drive_PCA.ipynb",
      "provenance": [],
      "collapsed_sections": [],
      "mount_file_id": "1Irk2F014xwS-M0P6fzogZRWtRyAeLH1j",
      "authorship_tag": "ABX9TyPqJ2SBdP4rlz4Q/GSddMxb",
      "include_colab_link": true
    },
    "kernelspec": {
      "name": "python3",
      "display_name": "Python 3"
    }
  },
  "cells": [
    {
      "cell_type": "markdown",
      "metadata": {
        "id": "view-in-github",
        "colab_type": "text"
      },
      "source": [
        "<a href=\"https://colab.research.google.com/github/CarveTheFuture/Hard_Drive_Reliability/blob/main/Drive_PCA.ipynb\" target=\"_parent\"><img src=\"https://colab.research.google.com/assets/colab-badge.svg\" alt=\"Open In Colab\"/></a>"
      ]
    },
    {
      "cell_type": "code",
      "metadata": {
        "colab": {
          "base_uri": "https://localhost:8080/"
        },
        "id": "dvQiWkE0Cd7l",
        "outputId": "757dc791-979c-43e9-d1d0-e6c9ea63ff9e"
      },
      "source": [
        "pip install fdasrsf"
      ],
      "execution_count": null,
      "outputs": [
        {
          "output_type": "stream",
          "text": [
            "Requirement already satisfied: fdasrsf in /usr/local/lib/python3.6/dist-packages (2.2.1)\n",
            "Requirement already satisfied: matplotlib in /usr/local/lib/python3.6/dist-packages (from fdasrsf) (3.2.2)\n",
            "Requirement already satisfied: tqdm in /usr/local/lib/python3.6/dist-packages (from fdasrsf) (4.41.1)\n",
            "Requirement already satisfied: numba in /usr/local/lib/python3.6/dist-packages (from fdasrsf) (0.52.0)\n",
            "Requirement already satisfied: six in /usr/local/lib/python3.6/dist-packages (from fdasrsf) (1.15.0)\n",
            "Requirement already satisfied: pyparsing in /usr/local/lib/python3.6/dist-packages (from fdasrsf) (2.4.7)\n",
            "Requirement already satisfied: cffi>=1.0.0 in /usr/local/lib/python3.6/dist-packages (from fdasrsf) (1.14.4)\n",
            "Requirement already satisfied: numpy in /usr/local/lib/python3.6/dist-packages (from fdasrsf) (1.19.5)\n",
            "Requirement already satisfied: Cython in /usr/local/lib/python3.6/dist-packages (from fdasrsf) (0.29.21)\n",
            "Requirement already satisfied: joblib in /usr/local/lib/python3.6/dist-packages (from fdasrsf) (1.0.0)\n",
            "Requirement already satisfied: scipy in /usr/local/lib/python3.6/dist-packages (from fdasrsf) (1.4.1)\n",
            "Requirement already satisfied: patsy in /usr/local/lib/python3.6/dist-packages (from fdasrsf) (0.5.1)\n",
            "Requirement already satisfied: cycler>=0.10 in /usr/local/lib/python3.6/dist-packages (from matplotlib->fdasrsf) (0.10.0)\n",
            "Requirement already satisfied: kiwisolver>=1.0.1 in /usr/local/lib/python3.6/dist-packages (from matplotlib->fdasrsf) (1.3.1)\n",
            "Requirement already satisfied: python-dateutil>=2.1 in /usr/local/lib/python3.6/dist-packages (from matplotlib->fdasrsf) (2.8.1)\n",
            "Requirement already satisfied: llvmlite<0.36,>=0.35.0 in /usr/local/lib/python3.6/dist-packages (from numba->fdasrsf) (0.35.0)\n",
            "Requirement already satisfied: setuptools in /usr/local/lib/python3.6/dist-packages (from numba->fdasrsf) (51.1.1)\n",
            "Requirement already satisfied: pycparser in /usr/local/lib/python3.6/dist-packages (from cffi>=1.0.0->fdasrsf) (2.20)\n"
          ],
          "name": "stdout"
        }
      ]
    },
    {
      "cell_type": "code",
      "metadata": {
        "id": "rJq75Xl_Gr2Y"
      },
      "source": [
        "import pandas as pd\r\n",
        "import csv, sqlite3\r\n",
        "import matplotlib.pyplot as plt\r\n",
        "import numpy as np"
      ],
      "execution_count": 1,
      "outputs": []
    },
    {
      "cell_type": "code",
      "metadata": {
        "id": "v0q2IhKNGob3"
      },
      "source": [
        ""
      ],
      "execution_count": null,
      "outputs": []
    },
    {
      "cell_type": "code",
      "metadata": {
        "id": "Cpv6zmVICjSH"
      },
      "source": [
        "from fdasrsf import fPCA, time_warping, fdawarp, fdahpca"
      ],
      "execution_count": null,
      "outputs": []
    },
    {
      "cell_type": "code",
      "metadata": {
        "colab": {
          "base_uri": "https://localhost:8080/"
        },
        "id": "3bsbWiM4DUAB",
        "outputId": "ffe02546-8afa-4332-d982-c2f7aea921aa"
      },
      "source": [
        " pip  install  numba==0.52.0 --upgrade"
      ],
      "execution_count": null,
      "outputs": [
        {
          "output_type": "stream",
          "text": [
            "Requirement already up-to-date: numba==0.52.0 in /usr/local/lib/python3.6/dist-packages (0.52.0)\n",
            "Requirement already satisfied, skipping upgrade: llvmlite<0.36,>=0.35.0 in /usr/local/lib/python3.6/dist-packages (from numba==0.52.0) (0.35.0)\n",
            "Requirement already satisfied, skipping upgrade: numpy>=1.15 in /usr/local/lib/python3.6/dist-packages (from numba==0.52.0) (1.19.5)\n",
            "Requirement already satisfied, skipping upgrade: setuptools in /usr/local/lib/python3.6/dist-packages (from numba==0.52.0) (51.1.1)\n"
          ],
          "name": "stdout"
        }
      ]
    },
    {
      "cell_type": "code",
      "metadata": {
        "id": "bafV-km8Gc00"
      },
      "source": [
        "X_train=pd.read_csv('/content/drive/MyDrive/Analysis_Deta/2019/Model_Inputs/X_train_hours.csv')"
      ],
      "execution_count": 2,
      "outputs": []
    },
    {
      "cell_type": "code",
      "metadata": {
        "id": "RvwNvaSfGf1X"
      },
      "source": [
        "X_test=pd.read_csv('/content/drive/MyDrive/Analysis_Deta/2019/Model_Inputs/X_test_hours.csv')"
      ],
      "execution_count": 3,
      "outputs": []
    },
    {
      "cell_type": "code",
      "metadata": {
        "colab": {
          "base_uri": "https://localhost:8080/",
          "height": 311
        },
        "id": "QSqeEB3lmtUj",
        "outputId": "0e2332f5-353c-4977-fad7-9c03ccfe98dc"
      },
      "source": [
        "X_train.head(2)"
      ],
      "execution_count": 4,
      "outputs": [
        {
          "output_type": "execute_result",
          "data": {
            "text/html": [
              "<div>\n",
              "<style scoped>\n",
              "    .dataframe tbody tr th:only-of-type {\n",
              "        vertical-align: middle;\n",
              "    }\n",
              "\n",
              "    .dataframe tbody tr th {\n",
              "        vertical-align: top;\n",
              "    }\n",
              "\n",
              "    .dataframe thead th {\n",
              "        text-align: right;\n",
              "    }\n",
              "</style>\n",
              "<table border=\"1\" class=\"dataframe\">\n",
              "  <thead>\n",
              "    <tr style=\"text-align: right;\">\n",
              "      <th></th>\n",
              "      <th>Unnamed: 0</th>\n",
              "      <th>Unnamed: 0.1</th>\n",
              "      <th>date</th>\n",
              "      <th>serial_number</th>\n",
              "      <th>model</th>\n",
              "      <th>capacity_bytes</th>\n",
              "      <th>failure</th>\n",
              "      <th>smart_1_normalized</th>\n",
              "      <th>smart_1_raw</th>\n",
              "      <th>smart_3_normalized</th>\n",
              "      <th>smart_4_raw</th>\n",
              "      <th>smart_5_normalized</th>\n",
              "      <th>smart_5_raw</th>\n",
              "      <th>smart_7_normalized</th>\n",
              "      <th>smart_7_raw</th>\n",
              "      <th>smart_9_normalized</th>\n",
              "      <th>smart_9_raw</th>\n",
              "      <th>smart_12_raw</th>\n",
              "      <th>smart_183_normalized</th>\n",
              "      <th>smart_183_raw</th>\n",
              "      <th>smart_184_normalized</th>\n",
              "      <th>smart_184_raw</th>\n",
              "      <th>smart_187_normalized</th>\n",
              "      <th>smart_187_raw</th>\n",
              "      <th>smart_188_raw</th>\n",
              "      <th>smart_189_normalized</th>\n",
              "      <th>smart_189_raw</th>\n",
              "      <th>smart_190_normalized</th>\n",
              "      <th>smart_190_raw</th>\n",
              "      <th>smart_192_raw</th>\n",
              "      <th>smart_193_normalized</th>\n",
              "      <th>smart_193_raw</th>\n",
              "      <th>smart_194_normalized</th>\n",
              "      <th>smart_194_raw</th>\n",
              "      <th>smart_197_normalized</th>\n",
              "      <th>smart_197_raw</th>\n",
              "      <th>smart_198_normalized</th>\n",
              "      <th>smart_198_raw</th>\n",
              "      <th>smart_199_raw</th>\n",
              "      <th>smart_240_raw</th>\n",
              "      <th>smart_241_raw</th>\n",
              "      <th>smart_242_raw</th>\n",
              "      <th>fail_date</th>\n",
              "      <th>date_fail</th>\n",
              "      <th>perform</th>\n",
              "    </tr>\n",
              "  </thead>\n",
              "  <tbody>\n",
              "    <tr>\n",
              "      <th>0</th>\n",
              "      <td>0</td>\n",
              "      <td>0</td>\n",
              "      <td>2019-01-01</td>\n",
              "      <td>Z302BV7C</td>\n",
              "      <td>ST4000DM000</td>\n",
              "      <td>4000787030016</td>\n",
              "      <td>0</td>\n",
              "      <td>119.0</td>\n",
              "      <td>231195280.0</td>\n",
              "      <td>93.0</td>\n",
              "      <td>7.0</td>\n",
              "      <td>100.0</td>\n",
              "      <td>0.0</td>\n",
              "      <td>87.0</td>\n",
              "      <td>526658972.0</td>\n",
              "      <td>65.0</td>\n",
              "      <td>30873.0</td>\n",
              "      <td>7.0</td>\n",
              "      <td>100.0</td>\n",
              "      <td>0.0</td>\n",
              "      <td>100.0</td>\n",
              "      <td>0.0</td>\n",
              "      <td>100.0</td>\n",
              "      <td>0.0</td>\n",
              "      <td>0.0</td>\n",
              "      <td>100.0</td>\n",
              "      <td>0.0</td>\n",
              "      <td>76.0</td>\n",
              "      <td>24.0</td>\n",
              "      <td>0.0</td>\n",
              "      <td>81.0</td>\n",
              "      <td>38399.0</td>\n",
              "      <td>24.0</td>\n",
              "      <td>24.0</td>\n",
              "      <td>100.0</td>\n",
              "      <td>0.0</td>\n",
              "      <td>100.0</td>\n",
              "      <td>0.0</td>\n",
              "      <td>0.0</td>\n",
              "      <td>30503.0</td>\n",
              "      <td>5.403677e+10</td>\n",
              "      <td>1.219510e+11</td>\n",
              "      <td>4011    2019-11-13\\nName: date, dtype: object</td>\n",
              "      <td>2019-11-13</td>\n",
              "      <td>11</td>\n",
              "    </tr>\n",
              "    <tr>\n",
              "      <th>1</th>\n",
              "      <td>1</td>\n",
              "      <td>1</td>\n",
              "      <td>2019-01-01</td>\n",
              "      <td>Z304JN7J</td>\n",
              "      <td>ST4000DM000</td>\n",
              "      <td>4000787030016</td>\n",
              "      <td>0</td>\n",
              "      <td>119.0</td>\n",
              "      <td>208663312.0</td>\n",
              "      <td>92.0</td>\n",
              "      <td>9.0</td>\n",
              "      <td>100.0</td>\n",
              "      <td>0.0</td>\n",
              "      <td>86.0</td>\n",
              "      <td>429695685.0</td>\n",
              "      <td>68.0</td>\n",
              "      <td>28392.0</td>\n",
              "      <td>9.0</td>\n",
              "      <td>98.0</td>\n",
              "      <td>2.0</td>\n",
              "      <td>100.0</td>\n",
              "      <td>0.0</td>\n",
              "      <td>100.0</td>\n",
              "      <td>0.0</td>\n",
              "      <td>0.0</td>\n",
              "      <td>100.0</td>\n",
              "      <td>0.0</td>\n",
              "      <td>77.0</td>\n",
              "      <td>23.0</td>\n",
              "      <td>0.0</td>\n",
              "      <td>97.0</td>\n",
              "      <td>7273.0</td>\n",
              "      <td>23.0</td>\n",
              "      <td>23.0</td>\n",
              "      <td>100.0</td>\n",
              "      <td>0.0</td>\n",
              "      <td>100.0</td>\n",
              "      <td>0.0</td>\n",
              "      <td>0.0</td>\n",
              "      <td>28300.0</td>\n",
              "      <td>4.796113e+10</td>\n",
              "      <td>1.341161e+11</td>\n",
              "      <td>10102    2019-01-27\\nName: date, dtype: object</td>\n",
              "      <td>2019-01-27</td>\n",
              "      <td>7</td>\n",
              "    </tr>\n",
              "  </tbody>\n",
              "</table>\n",
              "</div>"
            ],
            "text/plain": [
              "   Unnamed: 0  Unnamed: 0.1  ...   date_fail perform\n",
              "0           0             0  ...  2019-11-13      11\n",
              "1           1             1  ...  2019-01-27       7\n",
              "\n",
              "[2 rows x 45 columns]"
            ]
          },
          "metadata": {
            "tags": []
          },
          "execution_count": 4
        }
      ]
    },
    {
      "cell_type": "code",
      "metadata": {
        "colab": {
          "base_uri": "https://localhost:8080/"
        },
        "id": "Flav01LvHQjd",
        "outputId": "1516cd91-4d06-444b-cc8d-81f3c47054fe"
      },
      "source": [
        "X_train.index"
      ],
      "execution_count": null,
      "outputs": [
        {
          "output_type": "execute_result",
          "data": {
            "text/plain": [
              "RangeIndex(start=0, stop=95254, step=1)"
            ]
          },
          "metadata": {
            "tags": []
          },
          "execution_count": 13
        }
      ]
    },
    {
      "cell_type": "code",
      "metadata": {
        "colab": {
          "base_uri": "https://localhost:8080/"
        },
        "id": "cltBfB1IRdWG",
        "outputId": "4571f1f8-2388-41f3-adc3-3b485f221c8c"
      },
      "source": [
        "pip install scikit-fda"
      ],
      "execution_count": 1,
      "outputs": [
        {
          "output_type": "stream",
          "text": [
            "Requirement already satisfied: scikit-fda in /usr/local/lib/python3.6/dist-packages (0.5)\n",
            "Requirement already satisfied: findiff in /usr/local/lib/python3.6/dist-packages (from scikit-fda) (0.8.7)\n",
            "Requirement already satisfied: pandas in /usr/local/lib/python3.6/dist-packages (from scikit-fda) (1.1.5)\n",
            "Requirement already satisfied: numpy>=1.16 in /usr/local/lib/python3.6/dist-packages (from scikit-fda) (1.19.5)\n",
            "Requirement already satisfied: mpldatacursor in /usr/local/lib/python3.6/dist-packages (from scikit-fda) (0.7.1)\n",
            "Requirement already satisfied: typing-extensions in /usr/local/lib/python3.6/dist-packages (from scikit-fda) (3.7.4.3)\n",
            "Requirement already satisfied: dcor in /usr/local/lib/python3.6/dist-packages (from scikit-fda) (0.5.2)\n",
            "Requirement already satisfied: cython in /usr/local/lib/python3.6/dist-packages (from scikit-fda) (0.29.21)\n",
            "Requirement already satisfied: matplotlib in /usr/local/lib/python3.6/dist-packages (from scikit-fda) (3.2.2)\n",
            "Requirement already satisfied: scipy>=1.3.0 in /usr/local/lib/python3.6/dist-packages (from scikit-fda) (1.4.1)\n",
            "Requirement already satisfied: rdata in /usr/local/lib/python3.6/dist-packages (from scikit-fda) (0.2.3)\n",
            "Requirement already satisfied: scikit-datasets[cran]>=0.1.24 in /usr/local/lib/python3.6/dist-packages (from scikit-fda) (0.1.38)\n",
            "Requirement already satisfied: scikit-learn>=0.20 in /usr/local/lib/python3.6/dist-packages (from scikit-fda) (0.22.2.post1)\n",
            "Requirement already satisfied: fdasrsf>=2.2.0 in /usr/local/lib/python3.6/dist-packages (from scikit-fda) (2.2.1)\n",
            "Requirement already satisfied: multimethod>=1.2 in /usr/local/lib/python3.6/dist-packages (from scikit-fda) (1.4)\n",
            "Requirement already satisfied: python-dateutil>=2.7.3 in /usr/local/lib/python3.6/dist-packages (from pandas->scikit-fda) (2.8.1)\n",
            "Requirement already satisfied: pytz>=2017.2 in /usr/local/lib/python3.6/dist-packages (from pandas->scikit-fda) (2018.9)\n",
            "Requirement already satisfied: numba>=0.51 in /usr/local/lib/python3.6/dist-packages (from dcor->scikit-fda) (0.52.0)\n",
            "Requirement already satisfied: setuptools in /usr/local/lib/python3.6/dist-packages (from dcor->scikit-fda) (51.1.1)\n",
            "Requirement already satisfied: kiwisolver>=1.0.1 in /usr/local/lib/python3.6/dist-packages (from matplotlib->scikit-fda) (1.3.1)\n",
            "Requirement already satisfied: cycler>=0.10 in /usr/local/lib/python3.6/dist-packages (from matplotlib->scikit-fda) (0.10.0)\n",
            "Requirement already satisfied: pyparsing!=2.0.4,!=2.1.2,!=2.1.6,>=2.0.1 in /usr/local/lib/python3.6/dist-packages (from matplotlib->scikit-fda) (2.4.7)\n",
            "Requirement already satisfied: xarray in /usr/local/lib/python3.6/dist-packages (from rdata->scikit-fda) (0.15.1)\n",
            "Requirement already satisfied: joblib>=0.11 in /usr/local/lib/python3.6/dist-packages (from scikit-learn>=0.20->scikit-fda) (1.0.0)\n",
            "Requirement already satisfied: six in /usr/local/lib/python3.6/dist-packages (from fdasrsf>=2.2.0->scikit-fda) (1.15.0)\n",
            "Requirement already satisfied: tqdm in /usr/local/lib/python3.6/dist-packages (from fdasrsf>=2.2.0->scikit-fda) (4.41.1)\n",
            "Requirement already satisfied: cffi>=1.0.0 in /usr/local/lib/python3.6/dist-packages (from fdasrsf>=2.2.0->scikit-fda) (1.14.4)\n",
            "Requirement already satisfied: patsy in /usr/local/lib/python3.6/dist-packages (from fdasrsf>=2.2.0->scikit-fda) (0.5.1)\n",
            "Requirement already satisfied: llvmlite<0.36,>=0.35.0 in /usr/local/lib/python3.6/dist-packages (from numba>=0.51->dcor->scikit-fda) (0.35.0)\n",
            "Requirement already satisfied: pycparser in /usr/local/lib/python3.6/dist-packages (from cffi>=1.0.0->fdasrsf>=2.2.0->scikit-fda) (2.20)\n"
          ],
          "name": "stdout"
        }
      ]
    },
    {
      "cell_type": "code",
      "metadata": {
        "id": "aSWer9HsRY6S"
      },
      "source": [
        "\r\n",
        "import skfda\r\n",
        "from skfda.datasets import fetch_growth\r\n",
        "from skfda.exploratory.visualization import plot_fpca_perturbation_graphs\r\n",
        "from skfda.preprocessing.dim_reduction.projection import FPCA\r\n",
        "from skfda.representation.basis import BSpline, Fourier, Monomial\r\n",
        "\r\n",
        "import matplotlib.pyplot as plt\r\n",
        "import numpy as np"
      ],
      "execution_count": 3,
      "outputs": []
    },
    {
      "cell_type": "code",
      "metadata": {
        "colab": {
          "base_uri": "https://localhost:8080/",
          "height": 368
        },
        "id": "ZI9rz_NJSZ3q",
        "outputId": "7224cbd2-ced5-4f7f-b268-ec23be99e380"
      },
      "source": [
        "pip install --upgrade scikit-learn"
      ],
      "execution_count": null,
      "outputs": [
        {
          "output_type": "stream",
          "text": [
            "Collecting scikit-learn\n",
            "\u001b[?25l  Downloading https://files.pythonhosted.org/packages/30/aa/db462d385c56905b731403885454188683f63c86ea68900f6f7e7558b5fa/scikit_learn-0.24.0-cp36-cp36m-manylinux2010_x86_64.whl (22.2MB)\n",
            "\u001b[K     |████████████████████████████████| 22.2MB 1.7MB/s \n",
            "\u001b[?25hRequirement already satisfied, skipping upgrade: scipy>=0.19.1 in /usr/local/lib/python3.6/dist-packages (from scikit-learn) (1.4.1)\n",
            "Collecting threadpoolctl>=2.0.0\n",
            "  Downloading https://files.pythonhosted.org/packages/f7/12/ec3f2e203afa394a149911729357aa48affc59c20e2c1c8297a60f33f133/threadpoolctl-2.1.0-py3-none-any.whl\n",
            "Requirement already satisfied, skipping upgrade: joblib>=0.11 in /usr/local/lib/python3.6/dist-packages (from scikit-learn) (1.0.0)\n",
            "Requirement already satisfied, skipping upgrade: numpy>=1.13.3 in /usr/local/lib/python3.6/dist-packages (from scikit-learn) (1.19.5)\n",
            "Installing collected packages: threadpoolctl, scikit-learn\n",
            "  Found existing installation: scikit-learn 0.22.2.post1\n",
            "    Uninstalling scikit-learn-0.22.2.post1:\n",
            "      Successfully uninstalled scikit-learn-0.22.2.post1\n",
            "Successfully installed scikit-learn-0.24.0 threadpoolctl-2.1.0\n"
          ],
          "name": "stdout"
        },
        {
          "output_type": "display_data",
          "data": {
            "application/vnd.colab-display-data+json": {
              "pip_warning": {
                "packages": [
                  "sklearn"
                ]
              }
            }
          },
          "metadata": {
            "tags": []
          }
        }
      ]
    },
    {
      "cell_type": "code",
      "metadata": {
        "id": "chqlYshVUOSI"
      },
      "source": [
        "dataset = skfda.datasets.fetch_growth()\r\n",
        "fd = dataset['data']\r\n",
        "y = dataset['target']\r\n"
      ],
      "execution_count": null,
      "outputs": []
    },
    {
      "cell_type": "code",
      "metadata": {
        "id": "gdiOorb0fVw2"
      },
      "source": [
        "from sklearn.preprocessing import StandardScaler\r\n",
        "scaler = StandardScaler()\r\n",
        "\r\n",
        "# Fit on training set only.\r\n",
        "scaler.fit(X_train.iloc[:,2:36])\r\n",
        "\r\n",
        "# Apply transform to both the training set and the test set.\r\n",
        "X_train_scaled = scaler.transform(X_train.iloc[:,2:36])\r\n",
        "X_test_scaled = scaler.transform(X_test.iloc[:,2:36])"
      ],
      "execution_count": 58,
      "outputs": []
    },
    {
      "cell_type": "code",
      "metadata": {
        "colab": {
          "base_uri": "https://localhost:8080/",
          "height": 551
        },
        "id": "jM0B3-CbjLw9",
        "outputId": "4356ad91-e68c-4b4d-990b-ec5acc12b355"
      },
      "source": [
        "X_train.iloc[:,2:44].head(5)"
      ],
      "execution_count": 218,
      "outputs": [
        {
          "output_type": "execute_result",
          "data": {
            "text/html": [
              "<div>\n",
              "<style scoped>\n",
              "    .dataframe tbody tr th:only-of-type {\n",
              "        vertical-align: middle;\n",
              "    }\n",
              "\n",
              "    .dataframe tbody tr th {\n",
              "        vertical-align: top;\n",
              "    }\n",
              "\n",
              "    .dataframe thead th {\n",
              "        text-align: right;\n",
              "    }\n",
              "</style>\n",
              "<table border=\"1\" class=\"dataframe\">\n",
              "  <thead>\n",
              "    <tr style=\"text-align: right;\">\n",
              "      <th></th>\n",
              "      <th>date.1</th>\n",
              "      <th>serial_number</th>\n",
              "      <th>model</th>\n",
              "      <th>failure</th>\n",
              "      <th>smart_1_normalized</th>\n",
              "      <th>smart_1_raw</th>\n",
              "      <th>smart_3_normalized</th>\n",
              "      <th>smart_4_raw</th>\n",
              "      <th>smart_5_normalized</th>\n",
              "      <th>smart_5_raw</th>\n",
              "      <th>smart_7_normalized</th>\n",
              "      <th>smart_7_raw</th>\n",
              "      <th>smart_9_normalized</th>\n",
              "      <th>smart_9_raw</th>\n",
              "      <th>smart_12_raw</th>\n",
              "      <th>smart_183_normalized</th>\n",
              "      <th>smart_183_raw</th>\n",
              "      <th>smart_184_normalized</th>\n",
              "      <th>smart_184_raw</th>\n",
              "      <th>smart_187_normalized</th>\n",
              "      <th>smart_187_raw</th>\n",
              "      <th>smart_188_raw</th>\n",
              "      <th>smart_189_normalized</th>\n",
              "      <th>smart_189_raw</th>\n",
              "      <th>smart_190_normalized</th>\n",
              "      <th>smart_190_raw</th>\n",
              "      <th>smart_192_raw</th>\n",
              "      <th>smart_193_normalized</th>\n",
              "      <th>smart_193_raw</th>\n",
              "      <th>smart_194_normalized</th>\n",
              "      <th>smart_194_raw</th>\n",
              "      <th>smart_197_normalized</th>\n",
              "      <th>smart_197_raw</th>\n",
              "      <th>smart_198_normalized</th>\n",
              "      <th>smart_198_raw</th>\n",
              "      <th>smart_199_raw</th>\n",
              "      <th>smart_240_raw</th>\n",
              "      <th>smart_241_raw</th>\n",
              "      <th>smart_242_raw</th>\n",
              "      <th>fail_date</th>\n",
              "      <th>serial</th>\n",
              "      <th>life_left</th>\n",
              "    </tr>\n",
              "  </thead>\n",
              "  <tbody>\n",
              "    <tr>\n",
              "      <th>0</th>\n",
              "      <td>2019-01-01</td>\n",
              "      <td>Z302BV7C</td>\n",
              "      <td>ST4000DM000</td>\n",
              "      <td>0</td>\n",
              "      <td>119.0</td>\n",
              "      <td>231195280.0</td>\n",
              "      <td>93.0</td>\n",
              "      <td>7.0</td>\n",
              "      <td>100.0</td>\n",
              "      <td>0.0</td>\n",
              "      <td>87.0</td>\n",
              "      <td>526658972.0</td>\n",
              "      <td>65.0</td>\n",
              "      <td>30873.0</td>\n",
              "      <td>7.0</td>\n",
              "      <td>100.0</td>\n",
              "      <td>0.0</td>\n",
              "      <td>100.0</td>\n",
              "      <td>0.0</td>\n",
              "      <td>100.0</td>\n",
              "      <td>0.0</td>\n",
              "      <td>0.0</td>\n",
              "      <td>100.0</td>\n",
              "      <td>0.0</td>\n",
              "      <td>76.0</td>\n",
              "      <td>24.0</td>\n",
              "      <td>0.0</td>\n",
              "      <td>81.0</td>\n",
              "      <td>38399.0</td>\n",
              "      <td>24.0</td>\n",
              "      <td>24.0</td>\n",
              "      <td>100.0</td>\n",
              "      <td>0.0</td>\n",
              "      <td>100.0</td>\n",
              "      <td>0.0</td>\n",
              "      <td>0.0</td>\n",
              "      <td>30503.0</td>\n",
              "      <td>5.403677e+10</td>\n",
              "      <td>1.219510e+11</td>\n",
              "      <td>date\\n2019-11-13   2019-11-13\\nName: date, dty...</td>\n",
              "      <td>142</td>\n",
              "      <td>316.0</td>\n",
              "    </tr>\n",
              "    <tr>\n",
              "      <th>1</th>\n",
              "      <td>2019-01-01</td>\n",
              "      <td>Z304JN7J</td>\n",
              "      <td>ST4000DM000</td>\n",
              "      <td>0</td>\n",
              "      <td>119.0</td>\n",
              "      <td>208663312.0</td>\n",
              "      <td>92.0</td>\n",
              "      <td>9.0</td>\n",
              "      <td>100.0</td>\n",
              "      <td>0.0</td>\n",
              "      <td>86.0</td>\n",
              "      <td>429695685.0</td>\n",
              "      <td>68.0</td>\n",
              "      <td>28392.0</td>\n",
              "      <td>9.0</td>\n",
              "      <td>98.0</td>\n",
              "      <td>2.0</td>\n",
              "      <td>100.0</td>\n",
              "      <td>0.0</td>\n",
              "      <td>100.0</td>\n",
              "      <td>0.0</td>\n",
              "      <td>0.0</td>\n",
              "      <td>100.0</td>\n",
              "      <td>0.0</td>\n",
              "      <td>77.0</td>\n",
              "      <td>23.0</td>\n",
              "      <td>0.0</td>\n",
              "      <td>97.0</td>\n",
              "      <td>7273.0</td>\n",
              "      <td>23.0</td>\n",
              "      <td>23.0</td>\n",
              "      <td>100.0</td>\n",
              "      <td>0.0</td>\n",
              "      <td>100.0</td>\n",
              "      <td>0.0</td>\n",
              "      <td>0.0</td>\n",
              "      <td>28300.0</td>\n",
              "      <td>4.796113e+10</td>\n",
              "      <td>1.341161e+11</td>\n",
              "      <td>date\\n2019-01-27   2019-01-27\\nName: date, dty...</td>\n",
              "      <td>271</td>\n",
              "      <td>26.0</td>\n",
              "    </tr>\n",
              "    <tr>\n",
              "      <th>2</th>\n",
              "      <td>2019-01-01</td>\n",
              "      <td>Z305D2NT</td>\n",
              "      <td>ST4000DM000</td>\n",
              "      <td>0</td>\n",
              "      <td>119.0</td>\n",
              "      <td>233925808.0</td>\n",
              "      <td>91.0</td>\n",
              "      <td>10.0</td>\n",
              "      <td>100.0</td>\n",
              "      <td>0.0</td>\n",
              "      <td>81.0</td>\n",
              "      <td>143691431.0</td>\n",
              "      <td>72.0</td>\n",
              "      <td>25356.0</td>\n",
              "      <td>10.0</td>\n",
              "      <td>100.0</td>\n",
              "      <td>0.0</td>\n",
              "      <td>100.0</td>\n",
              "      <td>0.0</td>\n",
              "      <td>100.0</td>\n",
              "      <td>0.0</td>\n",
              "      <td>0.0</td>\n",
              "      <td>100.0</td>\n",
              "      <td>0.0</td>\n",
              "      <td>72.0</td>\n",
              "      <td>28.0</td>\n",
              "      <td>0.0</td>\n",
              "      <td>96.0</td>\n",
              "      <td>9335.0</td>\n",
              "      <td>28.0</td>\n",
              "      <td>28.0</td>\n",
              "      <td>100.0</td>\n",
              "      <td>0.0</td>\n",
              "      <td>100.0</td>\n",
              "      <td>0.0</td>\n",
              "      <td>0.0</td>\n",
              "      <td>25274.0</td>\n",
              "      <td>4.198461e+10</td>\n",
              "      <td>1.190565e+11</td>\n",
              "      <td>date\\n2019-06-28   2019-06-28\\n2019-06-28   20...</td>\n",
              "      <td>366</td>\n",
              "      <td>178.0</td>\n",
              "    </tr>\n",
              "    <tr>\n",
              "      <th>3</th>\n",
              "      <td>2019-01-01</td>\n",
              "      <td>Z305D2NT</td>\n",
              "      <td>ST4000DM000</td>\n",
              "      <td>0</td>\n",
              "      <td>119.0</td>\n",
              "      <td>233925808.0</td>\n",
              "      <td>91.0</td>\n",
              "      <td>10.0</td>\n",
              "      <td>100.0</td>\n",
              "      <td>0.0</td>\n",
              "      <td>81.0</td>\n",
              "      <td>143691431.0</td>\n",
              "      <td>72.0</td>\n",
              "      <td>25356.0</td>\n",
              "      <td>10.0</td>\n",
              "      <td>100.0</td>\n",
              "      <td>0.0</td>\n",
              "      <td>100.0</td>\n",
              "      <td>0.0</td>\n",
              "      <td>100.0</td>\n",
              "      <td>0.0</td>\n",
              "      <td>0.0</td>\n",
              "      <td>100.0</td>\n",
              "      <td>0.0</td>\n",
              "      <td>72.0</td>\n",
              "      <td>28.0</td>\n",
              "      <td>0.0</td>\n",
              "      <td>96.0</td>\n",
              "      <td>9335.0</td>\n",
              "      <td>28.0</td>\n",
              "      <td>28.0</td>\n",
              "      <td>100.0</td>\n",
              "      <td>0.0</td>\n",
              "      <td>100.0</td>\n",
              "      <td>0.0</td>\n",
              "      <td>0.0</td>\n",
              "      <td>25274.0</td>\n",
              "      <td>4.198461e+10</td>\n",
              "      <td>1.190565e+11</td>\n",
              "      <td>date\\n2019-06-28   2019-06-28\\n2019-06-28   20...</td>\n",
              "      <td>366</td>\n",
              "      <td>178.0</td>\n",
              "    </tr>\n",
              "    <tr>\n",
              "      <th>4</th>\n",
              "      <td>2019-01-01</td>\n",
              "      <td>Z304JDL3</td>\n",
              "      <td>ST4000DM000</td>\n",
              "      <td>0</td>\n",
              "      <td>117.0</td>\n",
              "      <td>162816872.0</td>\n",
              "      <td>94.0</td>\n",
              "      <td>6.0</td>\n",
              "      <td>100.0</td>\n",
              "      <td>0.0</td>\n",
              "      <td>85.0</td>\n",
              "      <td>377868052.0</td>\n",
              "      <td>68.0</td>\n",
              "      <td>28373.0</td>\n",
              "      <td>5.0</td>\n",
              "      <td>100.0</td>\n",
              "      <td>0.0</td>\n",
              "      <td>100.0</td>\n",
              "      <td>0.0</td>\n",
              "      <td>100.0</td>\n",
              "      <td>0.0</td>\n",
              "      <td>0.0</td>\n",
              "      <td>100.0</td>\n",
              "      <td>0.0</td>\n",
              "      <td>80.0</td>\n",
              "      <td>20.0</td>\n",
              "      <td>0.0</td>\n",
              "      <td>96.0</td>\n",
              "      <td>8895.0</td>\n",
              "      <td>20.0</td>\n",
              "      <td>20.0</td>\n",
              "      <td>100.0</td>\n",
              "      <td>0.0</td>\n",
              "      <td>100.0</td>\n",
              "      <td>0.0</td>\n",
              "      <td>0.0</td>\n",
              "      <td>28276.0</td>\n",
              "      <td>4.868509e+10</td>\n",
              "      <td>1.373655e+11</td>\n",
              "      <td>date\\n2019-06-10   2019-06-10\\n2019-06-10   20...</td>\n",
              "      <td>252</td>\n",
              "      <td>160.0</td>\n",
              "    </tr>\n",
              "  </tbody>\n",
              "</table>\n",
              "</div>"
            ],
            "text/plain": [
              "       date.1 serial_number  ... serial  life_left\n",
              "0  2019-01-01      Z302BV7C  ...    142      316.0\n",
              "1  2019-01-01      Z304JN7J  ...    271       26.0\n",
              "2  2019-01-01      Z305D2NT  ...    366      178.0\n",
              "3  2019-01-01      Z305D2NT  ...    366      178.0\n",
              "4  2019-01-01      Z304JDL3  ...    252      160.0\n",
              "\n",
              "[5 rows x 42 columns]"
            ]
          },
          "metadata": {
            "tags": []
          },
          "execution_count": 218
        }
      ]
    },
    {
      "cell_type": "code",
      "metadata": {
        "id": "j4ccZ6C07N6B"
      },
      "source": [
        "col_select=list(range(6,41))"
      ],
      "execution_count": 227,
      "outputs": []
    },
    {
      "cell_type": "code",
      "metadata": {
        "id": "9lLgb5WO6yIB"
      },
      "source": [
        "col_select.insert(0,2)"
      ],
      "execution_count": 228,
      "outputs": []
    },
    {
      "cell_type": "code",
      "metadata": {
        "colab": {
          "base_uri": "https://localhost:8080/"
        },
        "id": "aIGZxUT87zgS",
        "outputId": "d2e36167-5224-406d-929b-06690e7719f3"
      },
      "source": [
        "col_select"
      ],
      "execution_count": 229,
      "outputs": [
        {
          "output_type": "execute_result",
          "data": {
            "text/plain": [
              "[2,\n",
              " 6,\n",
              " 7,\n",
              " 8,\n",
              " 9,\n",
              " 10,\n",
              " 11,\n",
              " 12,\n",
              " 13,\n",
              " 14,\n",
              " 15,\n",
              " 16,\n",
              " 17,\n",
              " 18,\n",
              " 19,\n",
              " 20,\n",
              " 21,\n",
              " 22,\n",
              " 23,\n",
              " 24,\n",
              " 25,\n",
              " 26,\n",
              " 27,\n",
              " 28,\n",
              " 29,\n",
              " 30,\n",
              " 31,\n",
              " 32,\n",
              " 33,\n",
              " 34,\n",
              " 35,\n",
              " 36,\n",
              " 37,\n",
              " 38,\n",
              " 39,\n",
              " 40]"
            ]
          },
          "metadata": {
            "tags": []
          },
          "execution_count": 229
        }
      ]
    },
    {
      "cell_type": "code",
      "metadata": {
        "id": "jujs4W9-8HIl"
      },
      "source": [
        "col_select.append(42)"
      ],
      "execution_count": 230,
      "outputs": []
    },
    {
      "cell_type": "code",
      "metadata": {
        "colab": {
          "base_uri": "https://localhost:8080/",
          "height": 301
        },
        "id": "eCz0n1Yjiz3p",
        "outputId": "0c58da05-b4b4-4dd4-dbc5-0039373b3dd5"
      },
      "source": [
        "X_test.head()"
      ],
      "execution_count": 161,
      "outputs": [
        {
          "output_type": "execute_result",
          "data": {
            "text/html": [
              "<div>\n",
              "<style scoped>\n",
              "    .dataframe tbody tr th:only-of-type {\n",
              "        vertical-align: middle;\n",
              "    }\n",
              "\n",
              "    .dataframe tbody tr th {\n",
              "        vertical-align: top;\n",
              "    }\n",
              "\n",
              "    .dataframe thead th {\n",
              "        text-align: right;\n",
              "    }\n",
              "</style>\n",
              "<table border=\"1\" class=\"dataframe\">\n",
              "  <thead>\n",
              "    <tr style=\"text-align: right;\">\n",
              "      <th></th>\n",
              "      <th>smart_9_normalized</th>\n",
              "      <th>date</th>\n",
              "      <th>serial_number</th>\n",
              "      <th>smart_1_raw</th>\n",
              "      <th>smart_3_normalized</th>\n",
              "      <th>smart_4_raw</th>\n",
              "      <th>smart_5_normalized</th>\n",
              "      <th>smart_5_raw</th>\n",
              "      <th>smart_7_normalized</th>\n",
              "      <th>smart_7_raw</th>\n",
              "      <th>smart_9_normalized.1</th>\n",
              "      <th>smart_9_raw</th>\n",
              "      <th>smart_12_raw</th>\n",
              "      <th>smart_183_normalized</th>\n",
              "      <th>smart_183_raw</th>\n",
              "      <th>smart_184_normalized</th>\n",
              "      <th>smart_184_raw</th>\n",
              "      <th>smart_187_normalized</th>\n",
              "      <th>smart_187_raw</th>\n",
              "      <th>smart_188_raw</th>\n",
              "      <th>smart_189_normalized</th>\n",
              "      <th>smart_189_raw</th>\n",
              "      <th>smart_190_normalized</th>\n",
              "      <th>smart_190_raw</th>\n",
              "      <th>smart_192_raw</th>\n",
              "      <th>smart_193_normalized</th>\n",
              "      <th>smart_193_raw</th>\n",
              "      <th>smart_194_normalized</th>\n",
              "      <th>smart_194_raw</th>\n",
              "      <th>smart_197_normalized</th>\n",
              "      <th>smart_197_raw</th>\n",
              "      <th>smart_198_normalized</th>\n",
              "      <th>smart_198_raw</th>\n",
              "      <th>smart_199_raw</th>\n",
              "      <th>smart_240_raw</th>\n",
              "      <th>smart_241_raw</th>\n",
              "      <th>smart_242_raw</th>\n",
              "      <th>fail_date</th>\n",
              "      <th>life_left</th>\n",
              "    </tr>\n",
              "  </thead>\n",
              "  <tbody>\n",
              "    <tr>\n",
              "      <th>0</th>\n",
              "      <td>65.0</td>\n",
              "      <td>2019-01-01</td>\n",
              "      <td>Z302BV7C</td>\n",
              "      <td>231195280.0</td>\n",
              "      <td>93.0</td>\n",
              "      <td>7.0</td>\n",
              "      <td>100.0</td>\n",
              "      <td>0.0</td>\n",
              "      <td>87.0</td>\n",
              "      <td>526658972.0</td>\n",
              "      <td>65.0</td>\n",
              "      <td>30873.0</td>\n",
              "      <td>7.0</td>\n",
              "      <td>100.0</td>\n",
              "      <td>0.0</td>\n",
              "      <td>100.0</td>\n",
              "      <td>0.0</td>\n",
              "      <td>100.0</td>\n",
              "      <td>0.0</td>\n",
              "      <td>0.0</td>\n",
              "      <td>100.0</td>\n",
              "      <td>0.0</td>\n",
              "      <td>76.0</td>\n",
              "      <td>24.0</td>\n",
              "      <td>0.0</td>\n",
              "      <td>81.0</td>\n",
              "      <td>38399.0</td>\n",
              "      <td>24.0</td>\n",
              "      <td>24.0</td>\n",
              "      <td>100.0</td>\n",
              "      <td>0.0</td>\n",
              "      <td>100.0</td>\n",
              "      <td>0.0</td>\n",
              "      <td>0.0</td>\n",
              "      <td>30503.0</td>\n",
              "      <td>5.403677e+10</td>\n",
              "      <td>1.219510e+11</td>\n",
              "      <td>2019-11-13</td>\n",
              "      <td>316 days</td>\n",
              "    </tr>\n",
              "    <tr>\n",
              "      <th>1</th>\n",
              "      <td>68.0</td>\n",
              "      <td>2019-01-01</td>\n",
              "      <td>Z304JN7J</td>\n",
              "      <td>208663312.0</td>\n",
              "      <td>92.0</td>\n",
              "      <td>9.0</td>\n",
              "      <td>100.0</td>\n",
              "      <td>0.0</td>\n",
              "      <td>86.0</td>\n",
              "      <td>429695685.0</td>\n",
              "      <td>68.0</td>\n",
              "      <td>28392.0</td>\n",
              "      <td>9.0</td>\n",
              "      <td>98.0</td>\n",
              "      <td>2.0</td>\n",
              "      <td>100.0</td>\n",
              "      <td>0.0</td>\n",
              "      <td>100.0</td>\n",
              "      <td>0.0</td>\n",
              "      <td>0.0</td>\n",
              "      <td>100.0</td>\n",
              "      <td>0.0</td>\n",
              "      <td>77.0</td>\n",
              "      <td>23.0</td>\n",
              "      <td>0.0</td>\n",
              "      <td>97.0</td>\n",
              "      <td>7273.0</td>\n",
              "      <td>23.0</td>\n",
              "      <td>23.0</td>\n",
              "      <td>100.0</td>\n",
              "      <td>0.0</td>\n",
              "      <td>100.0</td>\n",
              "      <td>0.0</td>\n",
              "      <td>0.0</td>\n",
              "      <td>28300.0</td>\n",
              "      <td>4.796113e+10</td>\n",
              "      <td>1.341161e+11</td>\n",
              "      <td>2019-01-27</td>\n",
              "      <td>26 days</td>\n",
              "    </tr>\n",
              "    <tr>\n",
              "      <th>2</th>\n",
              "      <td>72.0</td>\n",
              "      <td>2019-01-01</td>\n",
              "      <td>Z305D2NT</td>\n",
              "      <td>233925808.0</td>\n",
              "      <td>91.0</td>\n",
              "      <td>10.0</td>\n",
              "      <td>100.0</td>\n",
              "      <td>0.0</td>\n",
              "      <td>81.0</td>\n",
              "      <td>143691431.0</td>\n",
              "      <td>72.0</td>\n",
              "      <td>25356.0</td>\n",
              "      <td>10.0</td>\n",
              "      <td>100.0</td>\n",
              "      <td>0.0</td>\n",
              "      <td>100.0</td>\n",
              "      <td>0.0</td>\n",
              "      <td>100.0</td>\n",
              "      <td>0.0</td>\n",
              "      <td>0.0</td>\n",
              "      <td>100.0</td>\n",
              "      <td>0.0</td>\n",
              "      <td>72.0</td>\n",
              "      <td>28.0</td>\n",
              "      <td>0.0</td>\n",
              "      <td>96.0</td>\n",
              "      <td>9335.0</td>\n",
              "      <td>28.0</td>\n",
              "      <td>28.0</td>\n",
              "      <td>100.0</td>\n",
              "      <td>0.0</td>\n",
              "      <td>100.0</td>\n",
              "      <td>0.0</td>\n",
              "      <td>0.0</td>\n",
              "      <td>25274.0</td>\n",
              "      <td>4.198461e+10</td>\n",
              "      <td>1.190565e+11</td>\n",
              "      <td>2019-06-28</td>\n",
              "      <td>178 days</td>\n",
              "    </tr>\n",
              "    <tr>\n",
              "      <th>3</th>\n",
              "      <td>68.0</td>\n",
              "      <td>2019-01-01</td>\n",
              "      <td>Z304JDL3</td>\n",
              "      <td>162816872.0</td>\n",
              "      <td>94.0</td>\n",
              "      <td>6.0</td>\n",
              "      <td>100.0</td>\n",
              "      <td>0.0</td>\n",
              "      <td>85.0</td>\n",
              "      <td>377868052.0</td>\n",
              "      <td>68.0</td>\n",
              "      <td>28373.0</td>\n",
              "      <td>5.0</td>\n",
              "      <td>100.0</td>\n",
              "      <td>0.0</td>\n",
              "      <td>100.0</td>\n",
              "      <td>0.0</td>\n",
              "      <td>100.0</td>\n",
              "      <td>0.0</td>\n",
              "      <td>0.0</td>\n",
              "      <td>100.0</td>\n",
              "      <td>0.0</td>\n",
              "      <td>80.0</td>\n",
              "      <td>20.0</td>\n",
              "      <td>0.0</td>\n",
              "      <td>96.0</td>\n",
              "      <td>8895.0</td>\n",
              "      <td>20.0</td>\n",
              "      <td>20.0</td>\n",
              "      <td>100.0</td>\n",
              "      <td>0.0</td>\n",
              "      <td>100.0</td>\n",
              "      <td>0.0</td>\n",
              "      <td>0.0</td>\n",
              "      <td>28276.0</td>\n",
              "      <td>4.868509e+10</td>\n",
              "      <td>1.373655e+11</td>\n",
              "      <td>2019-06-10</td>\n",
              "      <td>160 days</td>\n",
              "    </tr>\n",
              "    <tr>\n",
              "      <th>4</th>\n",
              "      <td>66.0</td>\n",
              "      <td>2019-01-01</td>\n",
              "      <td>S300YSEP</td>\n",
              "      <td>42920808.0</td>\n",
              "      <td>96.0</td>\n",
              "      <td>4.0</td>\n",
              "      <td>100.0</td>\n",
              "      <td>0.0</td>\n",
              "      <td>86.0</td>\n",
              "      <td>425097444.0</td>\n",
              "      <td>66.0</td>\n",
              "      <td>30307.0</td>\n",
              "      <td>4.0</td>\n",
              "      <td>100.0</td>\n",
              "      <td>0.0</td>\n",
              "      <td>100.0</td>\n",
              "      <td>0.0</td>\n",
              "      <td>100.0</td>\n",
              "      <td>0.0</td>\n",
              "      <td>0.0</td>\n",
              "      <td>100.0</td>\n",
              "      <td>0.0</td>\n",
              "      <td>76.0</td>\n",
              "      <td>24.0</td>\n",
              "      <td>0.0</td>\n",
              "      <td>75.0</td>\n",
              "      <td>51200.0</td>\n",
              "      <td>24.0</td>\n",
              "      <td>24.0</td>\n",
              "      <td>100.0</td>\n",
              "      <td>0.0</td>\n",
              "      <td>100.0</td>\n",
              "      <td>0.0</td>\n",
              "      <td>0.0</td>\n",
              "      <td>29949.0</td>\n",
              "      <td>4.892523e+10</td>\n",
              "      <td>1.212411e+11</td>\n",
              "      <td>2019-07-12</td>\n",
              "      <td>192 days</td>\n",
              "    </tr>\n",
              "  </tbody>\n",
              "</table>\n",
              "</div>"
            ],
            "text/plain": [
              "   smart_9_normalized       date  ...  fail_date  life_left\n",
              "0                65.0 2019-01-01  ... 2019-11-13   316 days\n",
              "1                68.0 2019-01-01  ... 2019-01-27    26 days\n",
              "2                72.0 2019-01-01  ... 2019-06-28   178 days\n",
              "3                68.0 2019-01-01  ... 2019-06-10   160 days\n",
              "4                66.0 2019-01-01  ... 2019-07-12   192 days\n",
              "\n",
              "[5 rows x 39 columns]"
            ]
          },
          "metadata": {
            "tags": []
          },
          "execution_count": 161
        }
      ]
    },
    {
      "cell_type": "code",
      "metadata": {
        "id": "vnUr6ReV92hQ"
      },
      "source": [
        ""
      ],
      "execution_count": null,
      "outputs": []
    },
    {
      "cell_type": "code",
      "metadata": {
        "id": "AkdgTRbF8oFg"
      },
      "source": [
        "X_tr=X_train.iloc[:,col_select]\r\n",
        "X_te=X_test.iloc[:,col_select]"
      ],
      "execution_count": 232,
      "outputs": []
    },
    {
      "cell_type": "code",
      "metadata": {
        "colab": {
          "base_uri": "https://localhost:8080/"
        },
        "id": "x3CLUjlUj2W0",
        "outputId": "66838279-bd2f-4672-8871-3b91764bd97e"
      },
      "source": [
        "X_train_scaled"
      ],
      "execution_count": 59,
      "outputs": [
        {
          "output_type": "execute_result",
          "data": {
            "text/plain": [
              "array([[ 1.5548562 , -0.160029  , -0.3335342 , ..., -0.02606995,\n",
              "         0.74141878, -0.67079206],\n",
              "       [ 1.23455744, -0.64730332, -0.01224556, ..., -0.66339685,\n",
              "        -0.02890305, -0.25142493],\n",
              "       [ 1.59367148, -1.13457763,  0.14839876, ..., -1.53881727,\n",
              "        -0.78665822, -0.77057415],\n",
              "       ...,\n",
              "       [-1.30837897,  2.27634258, -1.13675582, ...,  3.30145342,\n",
              "         2.15623227,  1.91599899],\n",
              "       [-1.68284725, -0.64730332, -0.01224556, ...,  1.49969585,\n",
              "         0.71340683,  0.6995309 ],\n",
              "       [ 1.09564378, -0.64730332,  0.63033173, ...,  0.77731489,\n",
              "         0.00352083,  1.49979862]])"
            ]
          },
          "metadata": {
            "tags": []
          },
          "execution_count": 59
        }
      ]
    },
    {
      "cell_type": "code",
      "metadata": {
        "id": "1fdnBi-DpT1w"
      },
      "source": [
        "names=X_train.columns[2:36]"
      ],
      "execution_count": 61,
      "outputs": []
    },
    {
      "cell_type": "code",
      "metadata": {
        "id": "O5XxbDs9jXGj"
      },
      "source": [
        "Xtr=pd.DataFrame(X_train_scaled, columns=names)\r\n",
        "Xte=pd.DataFrame(X_test_scaled, columns=names)"
      ],
      "execution_count": 63,
      "outputs": []
    },
    {
      "cell_type": "code",
      "metadata": {
        "id": "-Aa0GB4X9-xG"
      },
      "source": [
        ""
      ],
      "execution_count": null,
      "outputs": []
    },
    {
      "cell_type": "code",
      "metadata": {
        "colab": {
          "base_uri": "https://localhost:8080/",
          "height": 217
        },
        "id": "KadOUKIcps5j",
        "outputId": "6e3556f4-e945-4413-f5eb-80a5bdb40f75"
      },
      "source": [
        "Xtr.head()"
      ],
      "execution_count": 67,
      "outputs": [
        {
          "output_type": "execute_result",
          "data": {
            "text/html": [
              "<div>\n",
              "<style scoped>\n",
              "    .dataframe tbody tr th:only-of-type {\n",
              "        vertical-align: middle;\n",
              "    }\n",
              "\n",
              "    .dataframe tbody tr th {\n",
              "        vertical-align: top;\n",
              "    }\n",
              "\n",
              "    .dataframe thead th {\n",
              "        text-align: right;\n",
              "    }\n",
              "</style>\n",
              "<table border=\"1\" class=\"dataframe\">\n",
              "  <thead>\n",
              "    <tr style=\"text-align: right;\">\n",
              "      <th></th>\n",
              "      <th>smart_1_raw</th>\n",
              "      <th>smart_3_normalized</th>\n",
              "      <th>smart_4_raw</th>\n",
              "      <th>smart_5_normalized</th>\n",
              "      <th>smart_5_raw</th>\n",
              "      <th>smart_7_normalized</th>\n",
              "      <th>smart_7_raw</th>\n",
              "      <th>smart_9_normalized</th>\n",
              "      <th>smart_9_raw</th>\n",
              "      <th>smart_12_raw</th>\n",
              "      <th>smart_183_normalized</th>\n",
              "      <th>smart_183_raw</th>\n",
              "      <th>smart_184_normalized</th>\n",
              "      <th>smart_184_raw</th>\n",
              "      <th>smart_187_normalized</th>\n",
              "      <th>smart_187_raw</th>\n",
              "      <th>smart_188_raw</th>\n",
              "      <th>smart_189_normalized</th>\n",
              "      <th>smart_189_raw</th>\n",
              "      <th>smart_190_normalized</th>\n",
              "      <th>smart_190_raw</th>\n",
              "      <th>smart_192_raw</th>\n",
              "      <th>smart_193_normalized</th>\n",
              "      <th>smart_193_raw</th>\n",
              "      <th>smart_194_normalized</th>\n",
              "      <th>smart_194_raw</th>\n",
              "      <th>smart_197_normalized</th>\n",
              "      <th>smart_197_raw</th>\n",
              "      <th>smart_198_normalized</th>\n",
              "      <th>smart_198_raw</th>\n",
              "      <th>smart_199_raw</th>\n",
              "      <th>smart_240_raw</th>\n",
              "      <th>smart_241_raw</th>\n",
              "      <th>smart_242_raw</th>\n",
              "      <th>serial_number</th>\n",
              "    </tr>\n",
              "  </thead>\n",
              "  <tbody>\n",
              "    <tr>\n",
              "      <th>0</th>\n",
              "      <td>1.554856</td>\n",
              "      <td>-0.160029</td>\n",
              "      <td>-0.333534</td>\n",
              "      <td>0.062772</td>\n",
              "      <td>-0.062867</td>\n",
              "      <td>0.297073</td>\n",
              "      <td>-0.089871</td>\n",
              "      <td>-0.092556</td>\n",
              "      <td>0.028341</td>\n",
              "      <td>-0.351567</td>\n",
              "      <td>0.248836</td>\n",
              "      <td>-0.248149</td>\n",
              "      <td>0.067157</td>\n",
              "      <td>-0.067157</td>\n",
              "      <td>0.402288</td>\n",
              "      <td>-0.402063</td>\n",
              "      <td>-0.066566</td>\n",
              "      <td>0.048561</td>\n",
              "      <td>-0.048561</td>\n",
              "      <td>-0.029835</td>\n",
              "      <td>0.029835</td>\n",
              "      <td>-0.300755</td>\n",
              "      <td>-0.364703</td>\n",
              "      <td>0.312988</td>\n",
              "      <td>0.029835</td>\n",
              "      <td>0.029835</td>\n",
              "      <td>0.00838</td>\n",
              "      <td>-0.021728</td>\n",
              "      <td>0.00838</td>\n",
              "      <td>-0.021728</td>\n",
              "      <td>-0.064143</td>\n",
              "      <td>-0.026070</td>\n",
              "      <td>0.741419</td>\n",
              "      <td>-0.670792</td>\n",
              "      <td>Z302BV7C</td>\n",
              "    </tr>\n",
              "    <tr>\n",
              "      <th>1</th>\n",
              "      <td>1.234557</td>\n",
              "      <td>-0.647303</td>\n",
              "      <td>-0.012246</td>\n",
              "      <td>0.062772</td>\n",
              "      <td>-0.062867</td>\n",
              "      <td>-0.047996</td>\n",
              "      <td>-0.148473</td>\n",
              "      <td>0.659437</td>\n",
              "      <td>-0.683523</td>\n",
              "      <td>0.067441</td>\n",
              "      <td>0.018372</td>\n",
              "      <td>-0.018677</td>\n",
              "      <td>0.067157</td>\n",
              "      <td>-0.067157</td>\n",
              "      <td>0.402288</td>\n",
              "      <td>-0.402063</td>\n",
              "      <td>-0.066566</td>\n",
              "      <td>0.048561</td>\n",
              "      <td>-0.048561</td>\n",
              "      <td>0.196231</td>\n",
              "      <td>-0.196231</td>\n",
              "      <td>-0.300755</td>\n",
              "      <td>0.471652</td>\n",
              "      <td>-0.445624</td>\n",
              "      <td>-0.196231</td>\n",
              "      <td>-0.196231</td>\n",
              "      <td>0.00838</td>\n",
              "      <td>-0.021728</td>\n",
              "      <td>0.00838</td>\n",
              "      <td>-0.021728</td>\n",
              "      <td>-0.064143</td>\n",
              "      <td>-0.663397</td>\n",
              "      <td>-0.028903</td>\n",
              "      <td>-0.251425</td>\n",
              "      <td>Z304JN7J</td>\n",
              "    </tr>\n",
              "    <tr>\n",
              "      <th>2</th>\n",
              "      <td>1.593671</td>\n",
              "      <td>-1.134578</td>\n",
              "      <td>0.148399</td>\n",
              "      <td>0.062772</td>\n",
              "      <td>-0.062867</td>\n",
              "      <td>-1.773340</td>\n",
              "      <td>-0.321326</td>\n",
              "      <td>1.662096</td>\n",
              "      <td>-1.554631</td>\n",
              "      <td>0.276945</td>\n",
              "      <td>0.248836</td>\n",
              "      <td>-0.248149</td>\n",
              "      <td>0.067157</td>\n",
              "      <td>-0.067157</td>\n",
              "      <td>0.402288</td>\n",
              "      <td>-0.402063</td>\n",
              "      <td>-0.066566</td>\n",
              "      <td>0.048561</td>\n",
              "      <td>-0.048561</td>\n",
              "      <td>-0.934099</td>\n",
              "      <td>0.934099</td>\n",
              "      <td>-0.300755</td>\n",
              "      <td>0.419380</td>\n",
              "      <td>-0.395368</td>\n",
              "      <td>0.934099</td>\n",
              "      <td>0.934099</td>\n",
              "      <td>0.00838</td>\n",
              "      <td>-0.021728</td>\n",
              "      <td>0.00838</td>\n",
              "      <td>-0.021728</td>\n",
              "      <td>-0.064143</td>\n",
              "      <td>-1.538817</td>\n",
              "      <td>-0.786658</td>\n",
              "      <td>-0.770574</td>\n",
              "      <td>Z305D2NT</td>\n",
              "    </tr>\n",
              "    <tr>\n",
              "      <th>3</th>\n",
              "      <td>0.582836</td>\n",
              "      <td>0.327245</td>\n",
              "      <td>-0.494179</td>\n",
              "      <td>0.062772</td>\n",
              "      <td>-0.062867</td>\n",
              "      <td>-0.393065</td>\n",
              "      <td>-0.179796</td>\n",
              "      <td>0.659437</td>\n",
              "      <td>-0.688975</td>\n",
              "      <td>-0.770575</td>\n",
              "      <td>0.248836</td>\n",
              "      <td>-0.248149</td>\n",
              "      <td>0.067157</td>\n",
              "      <td>-0.067157</td>\n",
              "      <td>0.402288</td>\n",
              "      <td>-0.402063</td>\n",
              "      <td>-0.066566</td>\n",
              "      <td>0.048561</td>\n",
              "      <td>-0.048561</td>\n",
              "      <td>0.874430</td>\n",
              "      <td>-0.874430</td>\n",
              "      <td>-0.300755</td>\n",
              "      <td>0.419380</td>\n",
              "      <td>-0.406092</td>\n",
              "      <td>-0.874430</td>\n",
              "      <td>-0.874430</td>\n",
              "      <td>0.00838</td>\n",
              "      <td>-0.021728</td>\n",
              "      <td>0.00838</td>\n",
              "      <td>-0.021728</td>\n",
              "      <td>-0.064143</td>\n",
              "      <td>-0.670340</td>\n",
              "      <td>0.062887</td>\n",
              "      <td>-0.139408</td>\n",
              "      <td>Z304JDL3</td>\n",
              "    </tr>\n",
              "    <tr>\n",
              "      <th>4</th>\n",
              "      <td>-1.121523</td>\n",
              "      <td>1.301794</td>\n",
              "      <td>-0.815467</td>\n",
              "      <td>0.062772</td>\n",
              "      <td>-0.062867</td>\n",
              "      <td>-0.047996</td>\n",
              "      <td>-0.151252</td>\n",
              "      <td>0.158108</td>\n",
              "      <td>-0.134059</td>\n",
              "      <td>-0.980079</td>\n",
              "      <td>0.248836</td>\n",
              "      <td>-0.248149</td>\n",
              "      <td>0.067157</td>\n",
              "      <td>-0.067157</td>\n",
              "      <td>0.402288</td>\n",
              "      <td>-0.402063</td>\n",
              "      <td>-0.066566</td>\n",
              "      <td>0.048561</td>\n",
              "      <td>-0.048561</td>\n",
              "      <td>-0.029835</td>\n",
              "      <td>0.029835</td>\n",
              "      <td>-0.300755</td>\n",
              "      <td>-0.678336</td>\n",
              "      <td>0.624978</td>\n",
              "      <td>0.029835</td>\n",
              "      <td>0.029835</td>\n",
              "      <td>0.00838</td>\n",
              "      <td>-0.021728</td>\n",
              "      <td>0.00838</td>\n",
              "      <td>-0.021728</td>\n",
              "      <td>-0.064143</td>\n",
              "      <td>-0.186342</td>\n",
              "      <td>0.093333</td>\n",
              "      <td>-0.695262</td>\n",
              "      <td>S300YSEP</td>\n",
              "    </tr>\n",
              "  </tbody>\n",
              "</table>\n",
              "</div>"
            ],
            "text/plain": [
              "   smart_1_raw  smart_3_normalized  ...  smart_242_raw  serial_number\n",
              "0     1.554856           -0.160029  ...      -0.670792       Z302BV7C\n",
              "1     1.234557           -0.647303  ...      -0.251425       Z304JN7J\n",
              "2     1.593671           -1.134578  ...      -0.770574       Z305D2NT\n",
              "3     0.582836            0.327245  ...      -0.139408       Z304JDL3\n",
              "4    -1.121523            1.301794  ...      -0.695262       S300YSEP\n",
              "\n",
              "[5 rows x 35 columns]"
            ]
          },
          "metadata": {
            "tags": []
          },
          "execution_count": 67
        }
      ]
    },
    {
      "cell_type": "code",
      "metadata": {
        "id": "w5pCbVTk-AVx"
      },
      "source": [
        "y_tr=X_train.iloc[:,43]\r\n",
        "y_te=X_test.iloc[:,43]"
      ],
      "execution_count": 235,
      "outputs": []
    },
    {
      "cell_type": "code",
      "metadata": {
        "id": "sA2IVcPFpyjL"
      },
      "source": [
        "Xtr['serial_number']=X_train['serial_number']\r\n",
        "Xte['serial_number']=X_test['serial_number']"
      ],
      "execution_count": 66,
      "outputs": []
    },
    {
      "cell_type": "code",
      "metadata": {
        "id": "VsxlOozQqHyj"
      },
      "source": [
        "Xtr.to_csv('/content/drive/MyDrive/Analysis_Deta/2019/Model_Inputs/X_train_scaled.csv')\r\n",
        "Xte.to_csv('/content/drive/MyDrive/Analysis_Deta/2019/Model_Inputs/X_test_scaled.csv')"
      ],
      "execution_count": 72,
      "outputs": []
    },
    {
      "cell_type": "code",
      "metadata": {
        "id": "fFQYLGyqbx6a"
      },
      "source": [
        "\r\n",
        "X_tr= skfda.representation.grid.FDataGrid(X_train)"
      ],
      "execution_count": null,
      "outputs": []
    },
    {
      "cell_type": "code",
      "metadata": {
        "id": "Dxjn4qMvd6gk"
      },
      "source": [
        ""
      ],
      "execution_count": null,
      "outputs": []
    },
    {
      "cell_type": "code",
      "metadata": {
        "colab": {
          "base_uri": "https://localhost:8080/",
          "height": 513
        },
        "id": "owef0PrdZjHn",
        "outputId": "34f38be9-9f07-4db5-ea57-950d6994653b"
      },
      "source": [
        "fpca_discretized = FPCA(n_components=4)\r\n",
        "fpca_discretized.fit(X_tr)\r\n",
        "fpca_discretized.components_.plot()"
      ],
      "execution_count": null,
      "outputs": [
        {
          "output_type": "execute_result",
          "data": {
            "image/png": "[encoded data removed]",
            "text/plain": [
              "<Figure size 432x288 with 1 Axes>"
            ]
          },
          "metadata": {
            "tags": []
          },
          "execution_count": 33
        },
        {
          "output_type": "display_data",
          "data": {
            "image/png": "[encoded data removed]",
            "text/plain": [
              "<Figure size 432x288 with 1 Axes>"
            ]
          },
          "metadata": {
            "tags": [],
            "needs_background": "light"
          }
        }
      ]
    },
    {
      "cell_type": "code",
      "metadata": {
        "colab": {
          "base_uri": "https://localhost:8080/",
          "height": 981
        },
        "id": "CvoK2z3LdDCU",
        "outputId": "5615dec6-7ff8-4320-e859-b59b9c2c27aa"
      },
      "source": [
        "plot_fpca_perturbation_graphs(X_tr.mean(),\r\n",
        "                              fpca_discretized.components_,\r\n",
        "                              30,\r\n",
        "                              fig=plt.figure(figsize=(8, 2 * 4)))"
      ],
      "execution_count": null,
      "outputs": [
        {
          "output_type": "execute_result",
          "data": {
            "image/png": "[encoded data removed]",
            "text/plain": [
              "<Figure size 576x576 with 4 Axes>"
            ]
          },
          "metadata": {
            "tags": []
          },
          "execution_count": 34
        },
        {
          "output_type": "display_data",
          "data": {
            "image/png": "[encoded data removed]",
            "text/plain": [
              "<Figure size 576x576 with 4 Axes>"
            ]
          },
          "metadata": {
            "tags": [],
            "needs_background": "light"
          }
        }
      ]
    },
    {
      "cell_type": "code",
      "metadata": {
        "id": "hj70-ThmuKZP"
      },
      "source": [
        "X = pd.DataFrame(data=[['A', 'A', 'A', 2, 5, 7, 6, 3, 6, 7],['A', 'A', 'A', 4, 4, 4, 2, 4, 4, 3],['B', 'A', 'B', 5, 2, 1, 1, 7, 1, 1],['B', 'A', 'B', 7, 2, 1, 2, 2, 2, 2],['B', 'B', 'B', 3, 5, 6, 5, 2, 6, 6],['B', 'B', 'A', 3, 5, 4, 5, 1, 7, 5]],columns=['E1 fruity', 'E1 woody', 'E1 coffee','E2 red fruit', 'E2 roasted', 'E2 vanillin', 'E2 woody','E3 fruity', 'E3 butter', 'E3 woody'],index=['Wine {}'.format(i+1) for i in range(6)])\r\n",
        "X['Oak type'] = [1, 2, 2, 2, 1, 1]"
      ],
      "execution_count": null,
      "outputs": []
    },
    {
      "cell_type": "code",
      "metadata": {
        "colab": {
          "base_uri": "https://localhost:8080/",
          "height": 311
        },
        "id": "RuhgRDluup8_",
        "outputId": "b20c1b7d-84d6-4d3a-9c99-02ffe62dcaa2"
      },
      "source": [
        "X.head()"
      ],
      "execution_count": null,
      "outputs": [
        {
          "output_type": "execute_result",
          "data": {
            "text/html": [
              "<div>\n",
              "<style scoped>\n",
              "    .dataframe tbody tr th:only-of-type {\n",
              "        vertical-align: middle;\n",
              "    }\n",
              "\n",
              "    .dataframe tbody tr th {\n",
              "        vertical-align: top;\n",
              "    }\n",
              "\n",
              "    .dataframe thead th {\n",
              "        text-align: right;\n",
              "    }\n",
              "</style>\n",
              "<table border=\"1\" class=\"dataframe\">\n",
              "  <thead>\n",
              "    <tr style=\"text-align: right;\">\n",
              "      <th></th>\n",
              "      <th>E1 fruity</th>\n",
              "      <th>E1 woody</th>\n",
              "      <th>E1 coffee</th>\n",
              "      <th>E2 red fruit</th>\n",
              "      <th>E2 roasted</th>\n",
              "      <th>E2 vanillin</th>\n",
              "      <th>E2 woody</th>\n",
              "      <th>E3 fruity</th>\n",
              "      <th>E3 butter</th>\n",
              "      <th>E3 woody</th>\n",
              "      <th>Oak type</th>\n",
              "    </tr>\n",
              "  </thead>\n",
              "  <tbody>\n",
              "    <tr>\n",
              "      <th>Wine 1</th>\n",
              "      <td>A</td>\n",
              "      <td>A</td>\n",
              "      <td>A</td>\n",
              "      <td>2</td>\n",
              "      <td>5</td>\n",
              "      <td>7</td>\n",
              "      <td>6</td>\n",
              "      <td>3</td>\n",
              "      <td>6</td>\n",
              "      <td>7</td>\n",
              "      <td>1</td>\n",
              "    </tr>\n",
              "    <tr>\n",
              "      <th>Wine 2</th>\n",
              "      <td>A</td>\n",
              "      <td>A</td>\n",
              "      <td>A</td>\n",
              "      <td>4</td>\n",
              "      <td>4</td>\n",
              "      <td>4</td>\n",
              "      <td>2</td>\n",
              "      <td>4</td>\n",
              "      <td>4</td>\n",
              "      <td>3</td>\n",
              "      <td>2</td>\n",
              "    </tr>\n",
              "    <tr>\n",
              "      <th>Wine 3</th>\n",
              "      <td>B</td>\n",
              "      <td>A</td>\n",
              "      <td>B</td>\n",
              "      <td>5</td>\n",
              "      <td>2</td>\n",
              "      <td>1</td>\n",
              "      <td>1</td>\n",
              "      <td>7</td>\n",
              "      <td>1</td>\n",
              "      <td>1</td>\n",
              "      <td>2</td>\n",
              "    </tr>\n",
              "    <tr>\n",
              "      <th>Wine 4</th>\n",
              "      <td>B</td>\n",
              "      <td>A</td>\n",
              "      <td>B</td>\n",
              "      <td>7</td>\n",
              "      <td>2</td>\n",
              "      <td>1</td>\n",
              "      <td>2</td>\n",
              "      <td>2</td>\n",
              "      <td>2</td>\n",
              "      <td>2</td>\n",
              "      <td>2</td>\n",
              "    </tr>\n",
              "    <tr>\n",
              "      <th>Wine 5</th>\n",
              "      <td>B</td>\n",
              "      <td>B</td>\n",
              "      <td>B</td>\n",
              "      <td>3</td>\n",
              "      <td>5</td>\n",
              "      <td>6</td>\n",
              "      <td>5</td>\n",
              "      <td>2</td>\n",
              "      <td>6</td>\n",
              "      <td>6</td>\n",
              "      <td>1</td>\n",
              "    </tr>\n",
              "  </tbody>\n",
              "</table>\n",
              "</div>"
            ],
            "text/plain": [
              "       E1 fruity E1 woody E1 coffee  ...  E3 butter  E3 woody  Oak type\n",
              "Wine 1         A        A         A  ...          6         7         1\n",
              "Wine 2         A        A         A  ...          4         3         2\n",
              "Wine 3         B        A         B  ...          1         1         2\n",
              "Wine 4         B        A         B  ...          2         2         2\n",
              "Wine 5         B        B         B  ...          6         6         1\n",
              "\n",
              "[5 rows x 11 columns]"
            ]
          },
          "metadata": {
            "tags": []
          },
          "execution_count": 36
        }
      ]
    },
    {
      "cell_type": "code",
      "metadata": {
        "id": "1TS6b9l_u--O"
      },
      "source": [
        "import prince\r\n",
        "famd = prince.FAMD(\r\n",
        "    n_components=2,\r\n",
        "...     n_iter=3,\r\n",
        "...     copy=True,\r\n",
        "...     check_input=True,\r\n",
        "...     engine='auto',\r\n",
        "...     random_state=42\r\n",
        "... )\r\n",
        ">>> famd = famd.fit(X.drop('Oak type', axis='columns'))"
      ],
      "execution_count": null,
      "outputs": []
    },
    {
      "cell_type": "code",
      "metadata": {
        "colab": {
          "base_uri": "https://localhost:8080/"
        },
        "id": "7VhdD44xvPHp",
        "outputId": "bacb5407-8650-48a9-f60f-1b8e6f79421d"
      },
      "source": [
        "pip install prince"
      ],
      "execution_count": 16,
      "outputs": [
        {
          "output_type": "stream",
          "text": [
            "Collecting prince\n",
            "  Downloading https://files.pythonhosted.org/packages/94/6c/491a3fabfd1ce75e285a4fe4200fccde5d83664733541a3a74c0b02e77fb/prince-0.7.1-py3-none-any.whl\n",
            "Requirement already satisfied: scipy>=1.3.0 in /usr/local/lib/python3.6/dist-packages (from prince) (1.4.1)\n",
            "Requirement already satisfied: numpy>=1.17.1 in /usr/local/lib/python3.6/dist-packages (from prince) (1.19.5)\n",
            "Requirement already satisfied: scikit-learn>=0.22.1 in /usr/local/lib/python3.6/dist-packages (from prince) (0.22.2.post1)\n",
            "Requirement already satisfied: pandas>=1.0.3 in /usr/local/lib/python3.6/dist-packages (from prince) (1.1.5)\n",
            "Requirement already satisfied: matplotlib>=3.0.2 in /usr/local/lib/python3.6/dist-packages (from prince) (3.2.2)\n",
            "Requirement already satisfied: joblib>=0.11 in /usr/local/lib/python3.6/dist-packages (from scikit-learn>=0.22.1->prince) (1.0.0)\n",
            "Requirement already satisfied: python-dateutil>=2.7.3 in /usr/local/lib/python3.6/dist-packages (from pandas>=1.0.3->prince) (2.8.1)\n",
            "Requirement already satisfied: pytz>=2017.2 in /usr/local/lib/python3.6/dist-packages (from pandas>=1.0.3->prince) (2018.9)\n",
            "Requirement already satisfied: pyparsing!=2.0.4,!=2.1.2,!=2.1.6,>=2.0.1 in /usr/local/lib/python3.6/dist-packages (from matplotlib>=3.0.2->prince) (2.4.7)\n",
            "Requirement already satisfied: cycler>=0.10 in /usr/local/lib/python3.6/dist-packages (from matplotlib>=3.0.2->prince) (0.10.0)\n",
            "Requirement already satisfied: kiwisolver>=1.0.1 in /usr/local/lib/python3.6/dist-packages (from matplotlib>=3.0.2->prince) (1.3.1)\n",
            "Requirement already satisfied: six>=1.5 in /usr/local/lib/python3.6/dist-packages (from python-dateutil>=2.7.3->pandas>=1.0.3->prince) (1.15.0)\n",
            "Installing collected packages: prince\n",
            "Successfully installed prince-0.7.1\n"
          ],
          "name": "stdout"
        }
      ]
    },
    {
      "cell_type": "code",
      "metadata": {
        "id": "I4RhpTyjvu50"
      },
      "source": [
        "import prince\r\n",
        "famd = prince.FAMD(n_components=2,n_iter=3,copy=True,check_input=True,engine='auto',random_state=42)\r\n",
        "famd = famd.fit(X.drop('Oak type', axis='columns'))"
      ],
      "execution_count": null,
      "outputs": []
    },
    {
      "cell_type": "code",
      "metadata": {
        "colab": {
          "base_uri": "https://localhost:8080/",
          "height": 337
        },
        "id": "B2-ez0fMbbFP",
        "outputId": "95ec703c-ed28-4486-d7d1-8338861c0d2a"
      },
      "source": [
        "pip install light_FAMD"
      ],
      "execution_count": 9,
      "outputs": [
        {
          "output_type": "stream",
          "text": [
            "Collecting light_FAMD\n",
            "  Downloading https://files.pythonhosted.org/packages/6c/40/6678217385426fe2d7791df6a56c866e8676f9d75afa26e188d9a2a291a3/light_famd-0.0.3-py2.py3-none-any.whl\n",
            "Requirement already satisfied: scikit-learn in /usr/local/lib/python3.6/dist-packages (from light_FAMD) (0.22.2.post1)\n",
            "Requirement already satisfied: scipy in /usr/local/lib/python3.6/dist-packages (from light_FAMD) (1.4.1)\n",
            "Requirement already satisfied: pandas in /usr/local/lib/python3.6/dist-packages (from light_FAMD) (1.1.5)\n",
            "Requirement already satisfied: numpy in /usr/local/lib/python3.6/dist-packages (from light_FAMD) (1.19.5)\n",
            "Requirement already satisfied: joblib>=0.11 in /usr/local/lib/python3.6/dist-packages (from scikit-learn->light_FAMD) (1.0.0)\n",
            "Requirement already satisfied: pytz>=2017.2 in /usr/local/lib/python3.6/dist-packages (from pandas->light_FAMD) (2018.9)\n",
            "Requirement already satisfied: python-dateutil>=2.7.3 in /usr/local/lib/python3.6/dist-packages (from pandas->light_FAMD) (2.8.1)\n",
            "Requirement already satisfied: six>=1.5 in /usr/local/lib/python3.6/dist-packages (from python-dateutil>=2.7.3->pandas->light_FAMD) (1.15.0)\n",
            "Installing collected packages: light-FAMD\n",
            "Successfully installed light-FAMD-0.0.3\n"
          ],
          "name": "stdout"
        },
        {
          "output_type": "display_data",
          "data": {
            "application/vnd.colab-display-data+json": {
              "pip_warning": {
                "packages": [
                  "math",
                  "numbers"
                ]
              }
            }
          },
          "metadata": {
            "tags": []
          }
        }
      ]
    },
    {
      "cell_type": "code",
      "metadata": {
        "colab": {
          "base_uri": "https://localhost:8080/"
        },
        "id": "Nwd2KGevbSRw",
        "outputId": "a732559d-8727-40f5-b029-a2a050ce5e25"
      },
      "source": [
        "import pandas as pd\r\n",
        "from light_famd import FAMD\r\n",
        "X_n = pd.DataFrame(data=np.random.randint(0,100,size=(10,2)),columns=list('AB'))\r\n",
        "X_c =pd.DataFrame(np.random.choice(list('abcde'),size=(10,4),replace=True),columns =list('CDEF'))\r\n",
        "X=pd.concat([X_n,X_c],axis=1)\r\n",
        "print(X)"
      ],
      "execution_count": 10,
      "outputs": [
        {
          "output_type": "stream",
          "text": [
            "    A   B  C  D  E  F\n",
            "0  48  26  b  c  a  d\n",
            "1  66  29  b  e  a  c\n",
            "2  49  96  e  a  e  d\n",
            "3   2  26  c  d  e  b\n",
            "4  19   4  a  a  b  e\n",
            "5  40  52  a  d  a  b\n",
            "6  28  71  a  e  d  d\n",
            "7  69  13  b  d  b  b\n",
            "8  38  75  a  a  c  c\n",
            "9  32  17  b  d  b  a\n"
          ],
          "name": "stdout"
        }
      ]
    },
    {
      "cell_type": "code",
      "metadata": {
        "colab": {
          "base_uri": "https://localhost:8080/",
          "height": 316
        },
        "id": "GDkHFZdabpoj",
        "outputId": "cf6e7fb4-416c-4395-c328-66eff5b72f6c"
      },
      "source": [
        "famd = FAMD(n_components=2)\r\n",
        "famd.fit(X)\r\n"
      ],
      "execution_count": 14,
      "outputs": [
        {
          "output_type": "error",
          "ename": "TypeError",
          "evalue": "ignored",
          "traceback": [
            "\u001b[0;31m---------------------------------------------------------------------------\u001b[0m",
            "\u001b[0;31mTypeError\u001b[0m                                 Traceback (most recent call last)",
            "\u001b[0;32m<ipython-input-14-6467fcb8eaf0>\u001b[0m in \u001b[0;36m<module>\u001b[0;34m()\u001b[0m\n\u001b[1;32m      1\u001b[0m \u001b[0mfamd\u001b[0m \u001b[0;34m=\u001b[0m \u001b[0mFAMD\u001b[0m\u001b[0;34m(\u001b[0m\u001b[0mn_components\u001b[0m\u001b[0;34m=\u001b[0m\u001b[0;36m2\u001b[0m\u001b[0;34m)\u001b[0m\u001b[0;34m\u001b[0m\u001b[0;34m\u001b[0m\u001b[0m\n\u001b[0;32m----> 2\u001b[0;31m \u001b[0mfamd\u001b[0m\u001b[0;34m.\u001b[0m\u001b[0mfit\u001b[0m\u001b[0;34m(\u001b[0m\u001b[0mX\u001b[0m\u001b[0;34m)\u001b[0m\u001b[0;34m\u001b[0m\u001b[0;34m\u001b[0m\u001b[0m\n\u001b[0m",
            "\u001b[0;32m/usr/local/lib/python3.6/dist-packages/light_famd/famd.py\u001b[0m in \u001b[0;36mfit\u001b[0;34m(self, X, y)\u001b[0m\n\u001b[1;32m     43\u001b[0m                              \"you only have numerical data; you should consider using PCA\")\n\u001b[1;32m     44\u001b[0m \u001b[0;34m\u001b[0m\u001b[0m\n\u001b[0;32m---> 45\u001b[0;31m         \u001b[0;32mreturn\u001b[0m \u001b[0msuper\u001b[0m\u001b[0;34m(\u001b[0m\u001b[0;34m)\u001b[0m\u001b[0;34m.\u001b[0m\u001b[0mfit\u001b[0m\u001b[0;34m(\u001b[0m\u001b[0mX\u001b[0m\u001b[0;34m)\u001b[0m\u001b[0;34m\u001b[0m\u001b[0;34m\u001b[0m\u001b[0m\n\u001b[0m\u001b[1;32m     46\u001b[0m \u001b[0;34m\u001b[0m\u001b[0m\n\u001b[1;32m     47\u001b[0m     \u001b[0;32mdef\u001b[0m \u001b[0mfit_transform\u001b[0m\u001b[0;34m(\u001b[0m\u001b[0mself\u001b[0m\u001b[0;34m,\u001b[0m\u001b[0mX\u001b[0m\u001b[0;34m,\u001b[0m\u001b[0my\u001b[0m\u001b[0;34m=\u001b[0m\u001b[0;32mNone\u001b[0m\u001b[0;34m)\u001b[0m\u001b[0;34m:\u001b[0m\u001b[0;34m\u001b[0m\u001b[0;34m\u001b[0m\u001b[0m\n",
            "\u001b[0;32m/usr/local/lib/python3.6/dist-packages/light_famd/mfa.py\u001b[0m in \u001b[0;36mfit\u001b[0;34m(self, X, y)\u001b[0m\n\u001b[1;32m     66\u001b[0m                     \u001b[0mengine\u001b[0m\u001b[0;34m=\u001b[0m\u001b[0mself\u001b[0m\u001b[0;34m.\u001b[0m\u001b[0mengine\u001b[0m\u001b[0;34m\u001b[0m\u001b[0;34m\u001b[0m\u001b[0m\n\u001b[1;32m     67\u001b[0m                 )\n\u001b[0;32m---> 68\u001b[0;31m             \u001b[0mself\u001b[0m\u001b[0;34m.\u001b[0m\u001b[0mpartial_factor_analysis_\u001b[0m\u001b[0;34m[\u001b[0m\u001b[0mname\u001b[0m\u001b[0;34m]\u001b[0m \u001b[0;34m=\u001b[0m \u001b[0mfa\u001b[0m\u001b[0;34m.\u001b[0m\u001b[0mfit\u001b[0m\u001b[0;34m(\u001b[0m\u001b[0mX\u001b[0m\u001b[0;34m.\u001b[0m\u001b[0mloc\u001b[0m\u001b[0;34m[\u001b[0m\u001b[0;34m:\u001b[0m\u001b[0;34m,\u001b[0m \u001b[0mcols\u001b[0m\u001b[0;34m]\u001b[0m\u001b[0;34m)\u001b[0m\u001b[0;34m\u001b[0m\u001b[0;34m\u001b[0m\u001b[0m\n\u001b[0m\u001b[1;32m     69\u001b[0m \u001b[0;34m\u001b[0m\u001b[0m\n\u001b[1;32m     70\u001b[0m         \u001b[0;31m# Fit the global PCA\u001b[0m\u001b[0;34m\u001b[0m\u001b[0;34m\u001b[0m\u001b[0;34m\u001b[0m\u001b[0m\n",
            "\u001b[0;32m/usr/local/lib/python3.6/dist-packages/light_famd/mca.py\u001b[0m in \u001b[0;36mfit\u001b[0;34m(self, X, y)\u001b[0m\n\u001b[1;32m     20\u001b[0m         \u001b[0mself\u001b[0m\u001b[0;34m.\u001b[0m\u001b[0mone_hot_\u001b[0m \u001b[0;34m=\u001b[0m \u001b[0mone_hot\u001b[0m\u001b[0;34m.\u001b[0m\u001b[0mOneHotEncoder\u001b[0m\u001b[0;34m(\u001b[0m\u001b[0;34m)\u001b[0m\u001b[0;34m.\u001b[0m\u001b[0mfit\u001b[0m\u001b[0;34m(\u001b[0m\u001b[0mX\u001b[0m\u001b[0;34m)\u001b[0m\u001b[0;34m\u001b[0m\u001b[0;34m\u001b[0m\u001b[0m\n\u001b[1;32m     21\u001b[0m \u001b[0;34m\u001b[0m\u001b[0m\n\u001b[0;32m---> 22\u001b[0;31m         \u001b[0m_X_t\u001b[0m\u001b[0;34m=\u001b[0m  \u001b[0mself\u001b[0m\u001b[0;34m.\u001b[0m\u001b[0mone_hot_\u001b[0m\u001b[0;34m.\u001b[0m\u001b[0mtransform\u001b[0m\u001b[0;34m(\u001b[0m\u001b[0mX\u001b[0m\u001b[0;34m)\u001b[0m\u001b[0;34m\u001b[0m\u001b[0;34m\u001b[0m\u001b[0m\n\u001b[0m\u001b[1;32m     23\u001b[0m \u001b[0;34m\u001b[0m\u001b[0m\n\u001b[1;32m     24\u001b[0m         \u001b[0m_0_freq_serie\u001b[0m\u001b[0;34m=\u001b[0m \u001b[0;34m(\u001b[0m\u001b[0m_X_t\u001b[0m \u001b[0;34m==\u001b[0m \u001b[0;36m0\u001b[0m\u001b[0;34m)\u001b[0m\u001b[0;34m.\u001b[0m\u001b[0msum\u001b[0m\u001b[0;34m(\u001b[0m\u001b[0maxis\u001b[0m\u001b[0;34m=\u001b[0m\u001b[0;36m0\u001b[0m\u001b[0;34m)\u001b[0m\u001b[0;34m/\u001b[0m \u001b[0mlen\u001b[0m\u001b[0;34m(\u001b[0m\u001b[0m_X_t\u001b[0m\u001b[0;34m)\u001b[0m\u001b[0;34m\u001b[0m\u001b[0;34m\u001b[0m\u001b[0m\n",
            "\u001b[0;32m/usr/local/lib/python3.6/dist-packages/light_famd/one_hot.py\u001b[0m in \u001b[0;36mtransform\u001b[0;34m(self, X)\u001b[0m\n\u001b[1;32m     27\u001b[0m             \u001b[0mcolumns\u001b[0m\u001b[0;34m=\u001b[0m\u001b[0mself\u001b[0m\u001b[0;34m.\u001b[0m\u001b[0mcolumn_names_\u001b[0m\u001b[0;34m,\u001b[0m\u001b[0;34m\u001b[0m\u001b[0;34m\u001b[0m\u001b[0m\n\u001b[1;32m     28\u001b[0m             \u001b[0mindex\u001b[0m\u001b[0;34m=\u001b[0m\u001b[0mX\u001b[0m\u001b[0;34m.\u001b[0m\u001b[0mindex\u001b[0m \u001b[0;32mif\u001b[0m \u001b[0misinstance\u001b[0m\u001b[0;34m(\u001b[0m\u001b[0mX\u001b[0m\u001b[0;34m,\u001b[0m \u001b[0mpd\u001b[0m\u001b[0;34m.\u001b[0m\u001b[0mDataFrame\u001b[0m\u001b[0;34m)\u001b[0m \u001b[0;32melse\u001b[0m \u001b[0;32mNone\u001b[0m\u001b[0;34m,\u001b[0m\u001b[0;34m\u001b[0m\u001b[0;34m\u001b[0m\u001b[0m\n\u001b[0;32m---> 29\u001b[0;31m             \u001b[0mdefault_fill_value\u001b[0m\u001b[0;34m=\u001b[0m\u001b[0;36m0\u001b[0m\u001b[0;34m\u001b[0m\u001b[0;34m\u001b[0m\u001b[0m\n\u001b[0m\u001b[1;32m     30\u001b[0m         )\n",
            "\u001b[0;31mTypeError\u001b[0m: object() takes no parameters"
          ]
        }
      ]
    },
    {
      "cell_type": "code",
      "metadata": {
        "id": "UEYCoxRac9bL"
      },
      "source": [
        "\r\n",
        "import pandas as pd\r\n",
        "import prince\r\n",
        "import pprint\r\n",
        "\r\n",
        "## Import data\r\n",
        "#df = pd.read_csv('https://github.com/nchelaru/data-prep/raw/master/telco_cleaned_renamed.csv')\r\n"
      ],
      "execution_count": 17,
      "outputs": []
    },
    {
      "cell_type": "code",
      "metadata": {
        "id": "LHZnVNZ0c_P7"
      },
      "source": [
        "\r\n",
        "## Instantiate FAMD object\r\n",
        "famd = prince.FAMD(\r\n",
        "     n_components=25,\r\n",
        "     n_iter=10,\r\n",
        "     copy=True,\r\n",
        "     check_input=True,\r\n",
        "     engine='auto',       ## Can be \"auto\", 'sklearn', 'fbpca'\r\n",
        "     random_state=42)"
      ],
      "execution_count": 18,
      "outputs": []
    },
    {
      "cell_type": "code",
      "metadata": {
        "id": "H85wEElHdTb1"
      },
      "source": [
        "famd=famd.fit(X)"
      ],
      "execution_count": 19,
      "outputs": []
    },
    {
      "cell_type": "code",
      "metadata": {
        "colab": {
          "base_uri": "https://localhost:8080/"
        },
        "id": "QT-z1rz2dbQr",
        "outputId": "95fbc2d3-f073-4465-8ced-707cf9c39c68"
      },
      "source": [
        "pp = pprint.PrettyPrinter()\r\n",
        "pp.pprint(famd.explained_inertia_) "
      ],
      "execution_count": 20,
      "outputs": [
        {
          "output_type": "stream",
          "text": [
            "array([2.56418541e-01, 2.18806549e-01, 1.25026703e-01, 1.03309206e-01,\n",
            "       9.13227958e-02, 7.34440378e-02, 5.71551915e-02, 4.82864415e-02,\n",
            "       2.62305336e-02, 1.29973077e-33])\n"
          ],
          "name": "stdout"
        }
      ]
    },
    {
      "cell_type": "code",
      "metadata": {
        "id": "D3ObaGs0dfHt"
      },
      "source": [
        "## Instantiate FAMD object\r\n",
        "famd_drive = prince.FAMD(n_components=25,n_iter=10,copy=True,check_input=True,engine='auto',random_state=42) "
      ],
      "execution_count": 22,
      "outputs": []
    },
    {
      "cell_type": "code",
      "metadata": {
        "id": "UeUIneqael7E"
      },
      "source": [
        "famd_drive=famd_drive.fit(Xtr)"
      ],
      "execution_count": 73,
      "outputs": []
    },
    {
      "cell_type": "code",
      "metadata": {
        "colab": {
          "base_uri": "https://localhost:8080/"
        },
        "id": "jkWiimgOrnwg",
        "outputId": "a11916fb-6e3e-43be-c625-51c6a7611035"
      },
      "source": [
        "pp = pprint.PrettyPrinter()\r\n",
        "pp.pprint(famd.explained_inertia_) "
      ],
      "execution_count": 74,
      "outputs": [
        {
          "output_type": "stream",
          "text": [
            "array([2.56418541e-01, 2.18806549e-01, 1.25026703e-01, 1.03309206e-01,\n",
            "       9.13227958e-02, 7.34440378e-02, 5.71551915e-02, 4.82864415e-02,\n",
            "       2.62305336e-02, 1.29973077e-33])\n"
          ],
          "name": "stdout"
        }
      ]
    },
    {
      "cell_type": "code",
      "metadata": {
        "colab": {
          "base_uri": "https://localhost:8080/"
        },
        "id": "s92-eHCMrp_F",
        "outputId": "bcac14b1-4c24-4fd6-83dd-c983b63c85ca"
      },
      "source": [
        "pp = pprint.PrettyPrinter()\r\n",
        "pp.pprint(famd_drive.explained_inertia_) "
      ],
      "execution_count": 75,
      "outputs": [
        {
          "output_type": "stream",
          "text": [
            "array([0.00474052, 0.00429224, 0.00389629, 0.00367753, 0.00351053,\n",
            "       0.00347221, 0.00329198, 0.00319103, 0.00283636, 0.00280484,\n",
            "       0.00276309, 0.00267216, 0.00258841, 0.00252   , 0.00249071,\n",
            "       0.00247034, 0.00246317, 0.00245389, 0.00245106, 0.00244986,\n",
            "       0.0024497 , 0.0024496 , 0.00244957, 0.00244948, 0.00244937])\n"
          ],
          "name": "stdout"
        }
      ]
    },
    {
      "cell_type": "code",
      "metadata": {
        "id": "3pOfiOIL26_-"
      },
      "source": [
        "from sklearn.ensemble import RandomForestRegressor\r\n",
        "from sklearn.datasets import load_boston\r\n",
        "from sklearn.datasets import make_regression\r\n",
        "from sklearn.metrics import mean_squared_error\r\n",
        "from sklearn.model_selection import train_test_split\r\n",
        "from sklearn.preprocessing import scale\r\n",
        "import matplotlib.pyplot as plt\r\n",
        "from sklearn import set_config "
      ],
      "execution_count": 76,
      "outputs": []
    },
    {
      "cell_type": "code",
      "metadata": {
        "id": "tEAOLKsC3jWR"
      },
      "source": [
        "f=((pd.to_datetime(X_tr['date.1'], yearfirst=True))-start)/ np.timedelta64(1,'D')\r\n",
        "g=((pd.to_datetime(X_te['date.1'], yearfirst=True))-start)/ np.timedelta64(1,'D')"
      ],
      "execution_count": 246,
      "outputs": []
    },
    {
      "cell_type": "code",
      "metadata": {
        "id": "FlFNFNHRAMLx"
      },
      "source": [
        "start=X_tr['date.1'][0]"
      ],
      "execution_count": 244,
      "outputs": []
    },
    {
      "cell_type": "code",
      "metadata": {
        "colab": {
          "base_uri": "https://localhost:8080/"
        },
        "id": "rVHlRGliAlCQ",
        "outputId": "753bf513-3571-4344-e297-dfe964794c9c"
      },
      "source": [
        "f[955]"
      ],
      "execution_count": 250,
      "outputs": [
        {
          "output_type": "execute_result",
          "data": {
            "text/plain": [
              "1.0"
            ]
          },
          "metadata": {
            "tags": []
          },
          "execution_count": 250
        }
      ]
    },
    {
      "cell_type": "code",
      "metadata": {
        "colab": {
          "base_uri": "https://localhost:8080/"
        },
        "id": "iAoth9MeAsF-",
        "outputId": "91229dba-91d4-4466-b422-aa84a4193726"
      },
      "source": [
        "X_tr['date.1']=f\r\n",
        "X_te['date.1']=g\r\n"
      ],
      "execution_count": 251,
      "outputs": [
        {
          "output_type": "stream",
          "text": [
            "/usr/local/lib/python3.6/dist-packages/ipykernel_launcher.py:1: SettingWithCopyWarning: \n",
            "A value is trying to be set on a copy of a slice from a DataFrame.\n",
            "Try using .loc[row_indexer,col_indexer] = value instead\n",
            "\n",
            "See the caveats in the documentation: https://pandas.pydata.org/pandas-docs/stable/user_guide/indexing.html#returning-a-view-versus-a-copy\n",
            "  \"\"\"Entry point for launching an IPython kernel.\n",
            "/usr/local/lib/python3.6/dist-packages/ipykernel_launcher.py:2: SettingWithCopyWarning: \n",
            "A value is trying to be set on a copy of a slice from a DataFrame.\n",
            "Try using .loc[row_indexer,col_indexer] = value instead\n",
            "\n",
            "See the caveats in the documentation: https://pandas.pydata.org/pandas-docs/stable/user_guide/indexing.html#returning-a-view-versus-a-copy\n",
            "  \n"
          ],
          "name": "stderr"
        }
      ]
    },
    {
      "cell_type": "code",
      "metadata": {
        "id": "P5Iee6QDDdN-"
      },
      "source": [
        "remove=np.where(np.isnan(y_tr))"
      ],
      "execution_count": 261,
      "outputs": []
    },
    {
      "cell_type": "code",
      "metadata": {
        "id": "LH-ji3ioDyWL"
      },
      "source": [
        "remove=np.array(remove)"
      ],
      "execution_count": 271,
      "outputs": []
    },
    {
      "cell_type": "code",
      "metadata": {
        "colab": {
          "base_uri": "https://localhost:8080/"
        },
        "id": "ylkMlOmDEcLX",
        "outputId": "7d23a178-81f8-4133-a757-59e786908364"
      },
      "source": [
        "remove.flatten()"
      ],
      "execution_count": 272,
      "outputs": [
        {
          "output_type": "execute_result",
          "data": {
            "text/plain": [
              "array([  116,   622,  1126,  1627,  2128,  2629,  3130,  3631,  4132,\n",
              "        4632,  5131,  5629,  6129,  6625,  7118,  7609,  8098,  8586,\n",
              "        9072,  9558, 10043, 10528, 11009, 11489, 11966, 12443, 12918,\n",
              "       13392, 13863, 14333, 14802, 15271])"
            ]
          },
          "metadata": {
            "tags": []
          },
          "execution_count": 272
        }
      ]
    },
    {
      "cell_type": "code",
      "metadata": {
        "colab": {
          "base_uri": "https://localhost:8080/",
          "height": 185
        },
        "id": "jbHct_cCDf51",
        "outputId": "c4f6cf8a-5ceb-4425-942e-0cabb8882b7e"
      },
      "source": [
        "X_trr=X_tr.drop(list(remove[0]))\r\n",
        "X_ter=X_te.drop(list(remove[0]))"
      ],
      "execution_count": 1,
      "outputs": [
        {
          "output_type": "error",
          "ename": "NameError",
          "evalue": "ignored",
          "traceback": [
            "\u001b[0;31m---------------------------------------------------------------------------\u001b[0m",
            "\u001b[0;31mNameError\u001b[0m                                 Traceback (most recent call last)",
            "\u001b[0;32m<ipython-input-1-0511c17bd2e3>\u001b[0m in \u001b[0;36m<module>\u001b[0;34m()\u001b[0m\n\u001b[0;32m----> 1\u001b[0;31m \u001b[0mX_trr\u001b[0m\u001b[0;34m=\u001b[0m\u001b[0mX_tr\u001b[0m\u001b[0;34m.\u001b[0m\u001b[0mdrop\u001b[0m\u001b[0;34m(\u001b[0m\u001b[0mlist\u001b[0m\u001b[0;34m(\u001b[0m\u001b[0mremove\u001b[0m\u001b[0;34m[\u001b[0m\u001b[0;36m0\u001b[0m\u001b[0;34m]\u001b[0m\u001b[0;34m)\u001b[0m\u001b[0;34m)\u001b[0m\u001b[0;34m\u001b[0m\u001b[0;34m\u001b[0m\u001b[0m\n\u001b[0m\u001b[1;32m      2\u001b[0m \u001b[0mX_ter\u001b[0m\u001b[0;34m=\u001b[0m\u001b[0mX_te\u001b[0m\u001b[0;34m.\u001b[0m\u001b[0mdrop\u001b[0m\u001b[0;34m(\u001b[0m\u001b[0mlist\u001b[0m\u001b[0;34m(\u001b[0m\u001b[0mremove\u001b[0m\u001b[0;34m[\u001b[0m\u001b[0;36m0\u001b[0m\u001b[0;34m]\u001b[0m\u001b[0;34m)\u001b[0m\u001b[0;34m)\u001b[0m\u001b[0;34m\u001b[0m\u001b[0;34m\u001b[0m\u001b[0m\n",
            "\u001b[0;31mNameError\u001b[0m: name 'X_tr' is not defined"
          ]
        }
      ]
    },
    {
      "cell_type": "code",
      "metadata": {
        "id": "oj-OKDeKPOxn"
      },
      "source": [
        "y_trr=y_tr.drop(list(remove[0]))\r\n",
        "y_ter=y_te.drop(list(remove[0]))"
      ],
      "execution_count": 284,
      "outputs": []
    },
    {
      "cell_type": "code",
      "metadata": {
        "colab": {
          "base_uri": "https://localhost:8080/",
          "height": 287
        },
        "id": "135vXYx4DgFu",
        "outputId": "60e9073d-235a-468e-ebac-551e7fe6f445"
      },
      "source": [
        "X.drop([1,2])"
      ],
      "execution_count": 276,
      "outputs": [
        {
          "output_type": "execute_result",
          "data": {
            "text/html": [
              "<div>\n",
              "<style scoped>\n",
              "    .dataframe tbody tr th:only-of-type {\n",
              "        vertical-align: middle;\n",
              "    }\n",
              "\n",
              "    .dataframe tbody tr th {\n",
              "        vertical-align: top;\n",
              "    }\n",
              "\n",
              "    .dataframe thead th {\n",
              "        text-align: right;\n",
              "    }\n",
              "</style>\n",
              "<table border=\"1\" class=\"dataframe\">\n",
              "  <thead>\n",
              "    <tr style=\"text-align: right;\">\n",
              "      <th></th>\n",
              "      <th>A</th>\n",
              "      <th>B</th>\n",
              "      <th>C</th>\n",
              "      <th>D</th>\n",
              "      <th>E</th>\n",
              "      <th>F</th>\n",
              "    </tr>\n",
              "  </thead>\n",
              "  <tbody>\n",
              "    <tr>\n",
              "      <th>0</th>\n",
              "      <td>0.145319</td>\n",
              "      <td>-0.161377</td>\n",
              "      <td>b</td>\n",
              "      <td>c</td>\n",
              "      <td>a</td>\n",
              "      <td>d</td>\n",
              "    </tr>\n",
              "    <tr>\n",
              "      <th>3</th>\n",
              "      <td>-0.605768</td>\n",
              "      <td>-0.161377</td>\n",
              "      <td>c</td>\n",
              "      <td>d</td>\n",
              "      <td>e</td>\n",
              "      <td>b</td>\n",
              "    </tr>\n",
              "    <tr>\n",
              "      <th>4</th>\n",
              "      <td>-0.328192</td>\n",
              "      <td>-0.399652</td>\n",
              "      <td>a</td>\n",
              "      <td>a</td>\n",
              "      <td>b</td>\n",
              "      <td>e</td>\n",
              "    </tr>\n",
              "    <tr>\n",
              "      <th>5</th>\n",
              "      <td>0.014695</td>\n",
              "      <td>0.120220</td>\n",
              "      <td>a</td>\n",
              "      <td>d</td>\n",
              "      <td>a</td>\n",
              "      <td>b</td>\n",
              "    </tr>\n",
              "    <tr>\n",
              "      <th>6</th>\n",
              "      <td>-0.181240</td>\n",
              "      <td>0.326003</td>\n",
              "      <td>a</td>\n",
              "      <td>e</td>\n",
              "      <td>d</td>\n",
              "      <td>d</td>\n",
              "    </tr>\n",
              "    <tr>\n",
              "      <th>7</th>\n",
              "      <td>0.488206</td>\n",
              "      <td>-0.302176</td>\n",
              "      <td>b</td>\n",
              "      <td>d</td>\n",
              "      <td>b</td>\n",
              "      <td>b</td>\n",
              "    </tr>\n",
              "    <tr>\n",
              "      <th>8</th>\n",
              "      <td>-0.017961</td>\n",
              "      <td>0.369326</td>\n",
              "      <td>a</td>\n",
              "      <td>a</td>\n",
              "      <td>c</td>\n",
              "      <td>c</td>\n",
              "    </tr>\n",
              "    <tr>\n",
              "      <th>9</th>\n",
              "      <td>-0.115929</td>\n",
              "      <td>-0.258853</td>\n",
              "      <td>b</td>\n",
              "      <td>d</td>\n",
              "      <td>b</td>\n",
              "      <td>a</td>\n",
              "    </tr>\n",
              "  </tbody>\n",
              "</table>\n",
              "</div>"
            ],
            "text/plain": [
              "          A         B  C  D  E  F\n",
              "0  0.145319 -0.161377  b  c  a  d\n",
              "3 -0.605768 -0.161377  c  d  e  b\n",
              "4 -0.328192 -0.399652  a  a  b  e\n",
              "5  0.014695  0.120220  a  d  a  b\n",
              "6 -0.181240  0.326003  a  e  d  d\n",
              "7  0.488206 -0.302176  b  d  b  b\n",
              "8 -0.017961  0.369326  a  a  c  c\n",
              "9 -0.115929 -0.258853  b  d  b  a"
            ]
          },
          "metadata": {
            "tags": []
          },
          "execution_count": 276
        }
      ]
    },
    {
      "cell_type": "code",
      "metadata": {
        "id": "kqMl6JoIDgR8"
      },
      "source": [
        ""
      ],
      "execution_count": null,
      "outputs": []
    },
    {
      "cell_type": "code",
      "metadata": {
        "id": "X5KgGEGuDgka"
      },
      "source": [
        ""
      ],
      "execution_count": null,
      "outputs": []
    },
    {
      "cell_type": "code",
      "metadata": {
        "id": "QkSq8PPWDgtu"
      },
      "source": [
        ""
      ],
      "execution_count": null,
      "outputs": []
    },
    {
      "cell_type": "code",
      "metadata": {
        "id": "Sp63j6tQDg7y"
      },
      "source": [
        ""
      ],
      "execution_count": null,
      "outputs": []
    },
    {
      "cell_type": "code",
      "metadata": {
        "id": "KZTIBWJBCWCn"
      },
      "source": [
        "X_train['fail_date']=pd.to_datetime(X_train['fail_date'], yearfirst=True)\r\n",
        "X_test['fail_date']=pd.to_datetime(X_test['fail_date'], yearfirst=True)"
      ],
      "execution_count": 185,
      "outputs": []
    },
    {
      "cell_type": "code",
      "metadata": {
        "id": "uqmFOVDRAIND"
      },
      "source": [
        "X_train['life_left']=(X_train['fail_date']-X_train['date'])/ np.timedelta64(1,'D')"
      ],
      "execution_count": 126,
      "outputs": []
    },
    {
      "cell_type": "code",
      "metadata": {
        "id": "_Emx1v0oIBM0"
      },
      "source": [
        "X_test['life_left']=X_test['fail_date']-X_test['date']"
      ],
      "execution_count": 136,
      "outputs": []
    },
    {
      "cell_type": "code",
      "metadata": {
        "colab": {
          "base_uri": "https://localhost:8080/"
        },
        "id": "hF0qZIJ8G1LV",
        "outputId": "6c2b8c98-be89-4ee2-da9b-cf032e244565"
      },
      "source": [
        "len(X_train.columns)"
      ],
      "execution_count": 129,
      "outputs": [
        {
          "output_type": "execute_result",
          "data": {
            "text/plain": [
              "39"
            ]
          },
          "metadata": {
            "tags": []
          },
          "execution_count": 129
        }
      ]
    },
    {
      "cell_type": "code",
      "metadata": {
        "id": "LatBpvpRCtl3"
      },
      "source": [
        "X_tr=X_train.iloc[:,3:39].drop('fail_date',axis=1)"
      ],
      "execution_count": 172,
      "outputs": []
    },
    {
      "cell_type": "code",
      "metadata": {
        "id": "kEmwJBriSf9k"
      },
      "source": [
        "X_tr=X_tr.drop('life_left',axis=1)"
      ],
      "execution_count": 173,
      "outputs": []
    },
    {
      "cell_type": "code",
      "metadata": {
        "id": "haPYiWpVRa8Z"
      },
      "source": [
        "X_tr['serial']=X_train['serial']"
      ],
      "execution_count": 163,
      "outputs": []
    },
    {
      "cell_type": "code",
      "metadata": {
        "id": "xjUImsFUJOns"
      },
      "source": [
        "X_te=X_test.iloc[:,2:37]"
      ],
      "execution_count": 147,
      "outputs": []
    },
    {
      "cell_type": "code",
      "metadata": {
        "colab": {
          "base_uri": "https://localhost:8080/",
          "height": 301
        },
        "id": "8tmGPZm8G92g",
        "outputId": "22283506-4d95-402d-afbd-c16797c84335"
      },
      "source": [
        "X_tr.head(5)"
      ],
      "execution_count": 240,
      "outputs": [
        {
          "output_type": "execute_result",
          "data": {
            "text/html": [
              "<div>\n",
              "<style scoped>\n",
              "    .dataframe tbody tr th:only-of-type {\n",
              "        vertical-align: middle;\n",
              "    }\n",
              "\n",
              "    .dataframe tbody tr th {\n",
              "        vertical-align: top;\n",
              "    }\n",
              "\n",
              "    .dataframe thead th {\n",
              "        text-align: right;\n",
              "    }\n",
              "</style>\n",
              "<table border=\"1\" class=\"dataframe\">\n",
              "  <thead>\n",
              "    <tr style=\"text-align: right;\">\n",
              "      <th></th>\n",
              "      <th>date.1</th>\n",
              "      <th>smart_1_normalized</th>\n",
              "      <th>smart_1_raw</th>\n",
              "      <th>smart_3_normalized</th>\n",
              "      <th>smart_4_raw</th>\n",
              "      <th>smart_5_normalized</th>\n",
              "      <th>smart_5_raw</th>\n",
              "      <th>smart_7_normalized</th>\n",
              "      <th>smart_7_raw</th>\n",
              "      <th>smart_9_normalized</th>\n",
              "      <th>smart_9_raw</th>\n",
              "      <th>smart_12_raw</th>\n",
              "      <th>smart_183_normalized</th>\n",
              "      <th>smart_183_raw</th>\n",
              "      <th>smart_184_normalized</th>\n",
              "      <th>smart_184_raw</th>\n",
              "      <th>smart_187_normalized</th>\n",
              "      <th>smart_187_raw</th>\n",
              "      <th>smart_188_raw</th>\n",
              "      <th>smart_189_normalized</th>\n",
              "      <th>smart_189_raw</th>\n",
              "      <th>smart_190_normalized</th>\n",
              "      <th>smart_190_raw</th>\n",
              "      <th>smart_192_raw</th>\n",
              "      <th>smart_193_normalized</th>\n",
              "      <th>smart_193_raw</th>\n",
              "      <th>smart_194_normalized</th>\n",
              "      <th>smart_194_raw</th>\n",
              "      <th>smart_197_normalized</th>\n",
              "      <th>smart_197_raw</th>\n",
              "      <th>smart_198_normalized</th>\n",
              "      <th>smart_198_raw</th>\n",
              "      <th>smart_199_raw</th>\n",
              "      <th>smart_240_raw</th>\n",
              "      <th>smart_241_raw</th>\n",
              "      <th>smart_242_raw</th>\n",
              "      <th>serial</th>\n",
              "    </tr>\n",
              "  </thead>\n",
              "  <tbody>\n",
              "    <tr>\n",
              "      <th>0</th>\n",
              "      <td>2019-01-01</td>\n",
              "      <td>119.0</td>\n",
              "      <td>231195280.0</td>\n",
              "      <td>93.0</td>\n",
              "      <td>7.0</td>\n",
              "      <td>100.0</td>\n",
              "      <td>0.0</td>\n",
              "      <td>87.0</td>\n",
              "      <td>526658972.0</td>\n",
              "      <td>65.0</td>\n",
              "      <td>30873.0</td>\n",
              "      <td>7.0</td>\n",
              "      <td>100.0</td>\n",
              "      <td>0.0</td>\n",
              "      <td>100.0</td>\n",
              "      <td>0.0</td>\n",
              "      <td>100.0</td>\n",
              "      <td>0.0</td>\n",
              "      <td>0.0</td>\n",
              "      <td>100.0</td>\n",
              "      <td>0.0</td>\n",
              "      <td>76.0</td>\n",
              "      <td>24.0</td>\n",
              "      <td>0.0</td>\n",
              "      <td>81.0</td>\n",
              "      <td>38399.0</td>\n",
              "      <td>24.0</td>\n",
              "      <td>24.0</td>\n",
              "      <td>100.0</td>\n",
              "      <td>0.0</td>\n",
              "      <td>100.0</td>\n",
              "      <td>0.0</td>\n",
              "      <td>0.0</td>\n",
              "      <td>30503.0</td>\n",
              "      <td>5.403677e+10</td>\n",
              "      <td>1.219510e+11</td>\n",
              "      <td>142</td>\n",
              "    </tr>\n",
              "    <tr>\n",
              "      <th>1</th>\n",
              "      <td>2019-01-01</td>\n",
              "      <td>119.0</td>\n",
              "      <td>208663312.0</td>\n",
              "      <td>92.0</td>\n",
              "      <td>9.0</td>\n",
              "      <td>100.0</td>\n",
              "      <td>0.0</td>\n",
              "      <td>86.0</td>\n",
              "      <td>429695685.0</td>\n",
              "      <td>68.0</td>\n",
              "      <td>28392.0</td>\n",
              "      <td>9.0</td>\n",
              "      <td>98.0</td>\n",
              "      <td>2.0</td>\n",
              "      <td>100.0</td>\n",
              "      <td>0.0</td>\n",
              "      <td>100.0</td>\n",
              "      <td>0.0</td>\n",
              "      <td>0.0</td>\n",
              "      <td>100.0</td>\n",
              "      <td>0.0</td>\n",
              "      <td>77.0</td>\n",
              "      <td>23.0</td>\n",
              "      <td>0.0</td>\n",
              "      <td>97.0</td>\n",
              "      <td>7273.0</td>\n",
              "      <td>23.0</td>\n",
              "      <td>23.0</td>\n",
              "      <td>100.0</td>\n",
              "      <td>0.0</td>\n",
              "      <td>100.0</td>\n",
              "      <td>0.0</td>\n",
              "      <td>0.0</td>\n",
              "      <td>28300.0</td>\n",
              "      <td>4.796113e+10</td>\n",
              "      <td>1.341161e+11</td>\n",
              "      <td>271</td>\n",
              "    </tr>\n",
              "    <tr>\n",
              "      <th>2</th>\n",
              "      <td>2019-01-01</td>\n",
              "      <td>119.0</td>\n",
              "      <td>233925808.0</td>\n",
              "      <td>91.0</td>\n",
              "      <td>10.0</td>\n",
              "      <td>100.0</td>\n",
              "      <td>0.0</td>\n",
              "      <td>81.0</td>\n",
              "      <td>143691431.0</td>\n",
              "      <td>72.0</td>\n",
              "      <td>25356.0</td>\n",
              "      <td>10.0</td>\n",
              "      <td>100.0</td>\n",
              "      <td>0.0</td>\n",
              "      <td>100.0</td>\n",
              "      <td>0.0</td>\n",
              "      <td>100.0</td>\n",
              "      <td>0.0</td>\n",
              "      <td>0.0</td>\n",
              "      <td>100.0</td>\n",
              "      <td>0.0</td>\n",
              "      <td>72.0</td>\n",
              "      <td>28.0</td>\n",
              "      <td>0.0</td>\n",
              "      <td>96.0</td>\n",
              "      <td>9335.0</td>\n",
              "      <td>28.0</td>\n",
              "      <td>28.0</td>\n",
              "      <td>100.0</td>\n",
              "      <td>0.0</td>\n",
              "      <td>100.0</td>\n",
              "      <td>0.0</td>\n",
              "      <td>0.0</td>\n",
              "      <td>25274.0</td>\n",
              "      <td>4.198461e+10</td>\n",
              "      <td>1.190565e+11</td>\n",
              "      <td>366</td>\n",
              "    </tr>\n",
              "    <tr>\n",
              "      <th>3</th>\n",
              "      <td>2019-01-01</td>\n",
              "      <td>119.0</td>\n",
              "      <td>233925808.0</td>\n",
              "      <td>91.0</td>\n",
              "      <td>10.0</td>\n",
              "      <td>100.0</td>\n",
              "      <td>0.0</td>\n",
              "      <td>81.0</td>\n",
              "      <td>143691431.0</td>\n",
              "      <td>72.0</td>\n",
              "      <td>25356.0</td>\n",
              "      <td>10.0</td>\n",
              "      <td>100.0</td>\n",
              "      <td>0.0</td>\n",
              "      <td>100.0</td>\n",
              "      <td>0.0</td>\n",
              "      <td>100.0</td>\n",
              "      <td>0.0</td>\n",
              "      <td>0.0</td>\n",
              "      <td>100.0</td>\n",
              "      <td>0.0</td>\n",
              "      <td>72.0</td>\n",
              "      <td>28.0</td>\n",
              "      <td>0.0</td>\n",
              "      <td>96.0</td>\n",
              "      <td>9335.0</td>\n",
              "      <td>28.0</td>\n",
              "      <td>28.0</td>\n",
              "      <td>100.0</td>\n",
              "      <td>0.0</td>\n",
              "      <td>100.0</td>\n",
              "      <td>0.0</td>\n",
              "      <td>0.0</td>\n",
              "      <td>25274.0</td>\n",
              "      <td>4.198461e+10</td>\n",
              "      <td>1.190565e+11</td>\n",
              "      <td>366</td>\n",
              "    </tr>\n",
              "    <tr>\n",
              "      <th>4</th>\n",
              "      <td>2019-01-01</td>\n",
              "      <td>117.0</td>\n",
              "      <td>162816872.0</td>\n",
              "      <td>94.0</td>\n",
              "      <td>6.0</td>\n",
              "      <td>100.0</td>\n",
              "      <td>0.0</td>\n",
              "      <td>85.0</td>\n",
              "      <td>377868052.0</td>\n",
              "      <td>68.0</td>\n",
              "      <td>28373.0</td>\n",
              "      <td>5.0</td>\n",
              "      <td>100.0</td>\n",
              "      <td>0.0</td>\n",
              "      <td>100.0</td>\n",
              "      <td>0.0</td>\n",
              "      <td>100.0</td>\n",
              "      <td>0.0</td>\n",
              "      <td>0.0</td>\n",
              "      <td>100.0</td>\n",
              "      <td>0.0</td>\n",
              "      <td>80.0</td>\n",
              "      <td>20.0</td>\n",
              "      <td>0.0</td>\n",
              "      <td>96.0</td>\n",
              "      <td>8895.0</td>\n",
              "      <td>20.0</td>\n",
              "      <td>20.0</td>\n",
              "      <td>100.0</td>\n",
              "      <td>0.0</td>\n",
              "      <td>100.0</td>\n",
              "      <td>0.0</td>\n",
              "      <td>0.0</td>\n",
              "      <td>28276.0</td>\n",
              "      <td>4.868509e+10</td>\n",
              "      <td>1.373655e+11</td>\n",
              "      <td>252</td>\n",
              "    </tr>\n",
              "  </tbody>\n",
              "</table>\n",
              "</div>"
            ],
            "text/plain": [
              "       date.1  smart_1_normalized  ...  smart_242_raw  serial\n",
              "0  2019-01-01               119.0  ...   1.219510e+11     142\n",
              "1  2019-01-01               119.0  ...   1.341161e+11     271\n",
              "2  2019-01-01               119.0  ...   1.190565e+11     366\n",
              "3  2019-01-01               119.0  ...   1.190565e+11     366\n",
              "4  2019-01-01               117.0  ...   1.373655e+11     252\n",
              "\n",
              "[5 rows x 37 columns]"
            ]
          },
          "metadata": {
            "tags": []
          },
          "execution_count": 240
        }
      ]
    },
    {
      "cell_type": "code",
      "metadata": {
        "colab": {
          "base_uri": "https://localhost:8080/"
        },
        "id": "yp2OxL9QadUN",
        "outputId": "5a0ba046-a1d8-4acb-e7cf-2ff9fd286ec0"
      },
      "source": [
        "X_tr.info()"
      ],
      "execution_count": 239,
      "outputs": [
        {
          "output_type": "stream",
          "text": [
            "<class 'pandas.core.frame.DataFrame'>\n",
            "RangeIndex: 95254 entries, 0 to 95253\n",
            "Data columns (total 37 columns):\n",
            " #   Column                Non-Null Count  Dtype  \n",
            "---  ------                --------------  -----  \n",
            " 0   date.1                95254 non-null  object \n",
            " 1   smart_1_normalized    95254 non-null  float64\n",
            " 2   smart_1_raw           95254 non-null  float64\n",
            " 3   smart_3_normalized    95254 non-null  float64\n",
            " 4   smart_4_raw           95254 non-null  float64\n",
            " 5   smart_5_normalized    95254 non-null  float64\n",
            " 6   smart_5_raw           95254 non-null  float64\n",
            " 7   smart_7_normalized    95254 non-null  float64\n",
            " 8   smart_7_raw           95254 non-null  float64\n",
            " 9   smart_9_normalized    95254 non-null  float64\n",
            " 10  smart_9_raw           95254 non-null  float64\n",
            " 11  smart_12_raw          95254 non-null  float64\n",
            " 12  smart_183_normalized  95254 non-null  float64\n",
            " 13  smart_183_raw         95254 non-null  float64\n",
            " 14  smart_184_normalized  95254 non-null  float64\n",
            " 15  smart_184_raw         95254 non-null  float64\n",
            " 16  smart_187_normalized  95254 non-null  float64\n",
            " 17  smart_187_raw         95254 non-null  float64\n",
            " 18  smart_188_raw         95254 non-null  float64\n",
            " 19  smart_189_normalized  95254 non-null  float64\n",
            " 20  smart_189_raw         95254 non-null  float64\n",
            " 21  smart_190_normalized  95254 non-null  float64\n",
            " 22  smart_190_raw         95254 non-null  float64\n",
            " 23  smart_192_raw         95254 non-null  float64\n",
            " 24  smart_193_normalized  95254 non-null  float64\n",
            " 25  smart_193_raw         95254 non-null  float64\n",
            " 26  smart_194_normalized  95254 non-null  float64\n",
            " 27  smart_194_raw         95254 non-null  float64\n",
            " 28  smart_197_normalized  95254 non-null  float64\n",
            " 29  smart_197_raw         95254 non-null  float64\n",
            " 30  smart_198_normalized  95254 non-null  float64\n",
            " 31  smart_198_raw         95254 non-null  float64\n",
            " 32  smart_199_raw         95254 non-null  float64\n",
            " 33  smart_240_raw         95254 non-null  float64\n",
            " 34  smart_241_raw         95254 non-null  float64\n",
            " 35  smart_242_raw         95254 non-null  float64\n",
            " 36  serial                95254 non-null  int64  \n",
            "dtypes: float64(35), int64(1), object(1)\n",
            "memory usage: 26.9+ MB\n"
          ],
          "name": "stdout"
        }
      ]
    },
    {
      "cell_type": "code",
      "metadata": {
        "id": "zzfDU9Pq_7bq"
      },
      "source": [
        "y_tr=X_train['life_left']\r\n",
        "y_te=X_test['life_left']\r\n"
      ],
      "execution_count": 188,
      "outputs": []
    },
    {
      "cell_type": "code",
      "metadata": {
        "colab": {
          "base_uri": "https://localhost:8080/"
        },
        "id": "l0xFL-KSVcRg",
        "outputId": "d2ef05fe-573d-4c4c-c6c6-bee2b033328e"
      },
      "source": [
        " y_tr/np.timedelta64(1,'D')"
      ],
      "execution_count": 182,
      "outputs": [
        {
          "output_type": "execute_result",
          "data": {
            "text/plain": [
              "smart_9_normalized\n",
              "65.0    316.0\n",
              "68.0     26.0\n",
              "72.0    178.0\n",
              "68.0    160.0\n",
              "66.0    192.0\n",
              "        ...  \n",
              "59.0    -54.0\n",
              "62.0    -14.0\n",
              "52.0   -165.0\n",
              "60.0    -88.0\n",
              "62.0   -281.0\n",
              "Name: life_left, Length: 95254, dtype: float64"
            ]
          },
          "metadata": {
            "tags": []
          },
          "execution_count": 182
        }
      ]
    },
    {
      "cell_type": "code",
      "metadata": {
        "id": "8bMQSbmT__Gi"
      },
      "source": [
        "col_select.insert(0,2)"
      ],
      "execution_count": null,
      "outputs": []
    },
    {
      "cell_type": "code",
      "metadata": {
        "colab": {
          "base_uri": "https://localhost:8080/"
        },
        "id": "M2BzvnbT3GdG",
        "outputId": "04b005d0-1f18-4924-b4eb-6530930dffc3"
      },
      "source": [
        "set_config(print_changed_only=False) \r\n",
        " \r\n",
        "rfr = RandomForestRegressor()\r\n",
        "print(rfr)\r\n",
        " \r\n",
        "RandomForestRegressor(bootstrap=True, ccp_alpha=0.0, criterion='mse',\r\n",
        "                      max_depth=None, max_features='auto', max_leaf_nodes=None,\r\n",
        "                      max_samples=None, min_impurity_decrease=0.0,\r\n",
        "                      min_impurity_split=None, min_samples_leaf=1,\r\n",
        "                      min_samples_split=2, min_weight_fraction_leaf=0.0,\r\n",
        "                      n_estimators=100, n_jobs=None, oob_score=False,\r\n",
        "                      random_state=None, verbose=0, warm_start=False) \r\n"
      ],
      "execution_count": 252,
      "outputs": [
        {
          "output_type": "stream",
          "text": [
            "RandomForestRegressor(bootstrap=True, ccp_alpha=0.0, criterion='mse',\n",
            "                      max_depth=None, max_features='auto', max_leaf_nodes=None,\n",
            "                      max_samples=None, min_impurity_decrease=0.0,\n",
            "                      min_impurity_split=None, min_samples_leaf=1,\n",
            "                      min_samples_split=2, min_weight_fraction_leaf=0.0,\n",
            "                      n_estimators=100, n_jobs=None, oob_score=False,\n",
            "                      random_state=None, verbose=0, warm_start=False)\n"
          ],
          "name": "stdout"
        },
        {
          "output_type": "execute_result",
          "data": {
            "text/plain": [
              "RandomForestRegressor(bootstrap=True, ccp_alpha=0.0, criterion='mse',\n",
              "                      max_depth=None, max_features='auto', max_leaf_nodes=None,\n",
              "                      max_samples=None, min_impurity_decrease=0.0,\n",
              "                      min_impurity_split=None, min_samples_leaf=1,\n",
              "                      min_samples_split=2, min_weight_fraction_leaf=0.0,\n",
              "                      n_estimators=100, n_jobs=None, oob_score=False,\n",
              "                      random_state=None, verbose=0, warm_start=False)"
            ]
          },
          "metadata": {
            "tags": []
          },
          "execution_count": 252
        }
      ]
    },
    {
      "cell_type": "code",
      "metadata": {
        "colab": {
          "base_uri": "https://localhost:8080/"
        },
        "id": "FPaVcM50BAPw",
        "outputId": "8bf899af-8703-4f52-dc7b-d9ac06131ba7"
      },
      "source": [
        "y_tr.isnull().any()"
      ],
      "execution_count": 255,
      "outputs": [
        {
          "output_type": "execute_result",
          "data": {
            "text/plain": [
              "True"
            ]
          },
          "metadata": {
            "tags": []
          },
          "execution_count": 255
        }
      ]
    },
    {
      "cell_type": "code",
      "metadata": {
        "id": "Lp3e8XYzC08d"
      },
      "source": [
        "remove=np.where(np.isnan(y_tr))"
      ],
      "execution_count": 260,
      "outputs": []
    },
    {
      "cell_type": "code",
      "metadata": {
        "id": "pRwiE9XYCSMV"
      },
      "source": [
        ""
      ],
      "execution_count": null,
      "outputs": []
    },
    {
      "cell_type": "code",
      "metadata": {
        "colab": {
          "base_uri": "https://localhost:8080/"
        },
        "id": "1cRm4PlzHPoB",
        "outputId": "73d5693b-bfe4-4e66-888f-9b4f14d94d38"
      },
      "source": [
        "rfr.fit(X_trr, y_trr)\r\n",
        "\r\n",
        "#score = rfr.score(X_tr, y_tr)\r\n",
        "#print(\"R-squared:\", score) \r\n",
        " \r\n"
      ],
      "execution_count": 285,
      "outputs": [
        {
          "output_type": "execute_result",
          "data": {
            "text/plain": [
              "RandomForestRegressor(bootstrap=True, ccp_alpha=0.0, criterion='mse',\n",
              "                      max_depth=None, max_features='auto', max_leaf_nodes=None,\n",
              "                      max_samples=None, min_impurity_decrease=0.0,\n",
              "                      min_impurity_split=None, min_samples_leaf=1,\n",
              "                      min_samples_split=2, min_weight_fraction_leaf=0.0,\n",
              "                      n_estimators=100, n_jobs=None, oob_score=False,\n",
              "                      random_state=None, verbose=0, warm_start=False)"
            ]
          },
          "metadata": {
            "tags": []
          },
          "execution_count": 285
        }
      ]
    },
    {
      "cell_type": "code",
      "metadata": {
        "colab": {
          "base_uri": "https://localhost:8080/"
        },
        "id": "8-ai-uUPUtAv",
        "outputId": "03132b9f-04bc-4678-8f47-80a3c000ce22"
      },
      "source": [
        "score = rfr.score(X_trr, (y_trr))\r\n",
        "print(\"R-squared:\", score) \r\n",
        " "
      ],
      "execution_count": 290,
      "outputs": [
        {
          "output_type": "stream",
          "text": [
            "R-squared: 0.9998905498843271\n"
          ],
          "name": "stdout"
        }
      ]
    },
    {
      "cell_type": "code",
      "metadata": {
        "colab": {
          "base_uri": "https://localhost:8080/"
        },
        "id": "Unqe50BBIiOk",
        "outputId": "5c07f78a-b08f-4870-c671-4fb1446a3682"
      },
      "source": [
        "ypred = rfr.predict(X_te)\r\n",
        "\r\n",
        "mse = mean_squared_error(y_te, ypred)\r\n",
        "print(\"MSE: \", mse)\r\n",
        "print(\"RMSE: \", mse*(1/2.0)) \r\n",
        "\r\n"
      ],
      "execution_count": 292,
      "outputs": [
        {
          "output_type": "stream",
          "text": [
            "MSE:  3294.4292179190456\n",
            "RMSE:  1647.2146089595228\n"
          ],
          "name": "stdout"
        }
      ]
    },
    {
      "cell_type": "code",
      "metadata": {
        "colab": {
          "base_uri": "https://localhost:8080/",
          "height": 285
        },
        "id": "XmAGmY0IWbox",
        "outputId": "2c25a477-ebf3-4029-f67a-e2c25ecb9141"
      },
      "source": [
        "plt.scatter(y_te,ypred)"
      ],
      "execution_count": 296,
      "outputs": [
        {
          "output_type": "execute_result",
          "data": {
            "text/plain": [
              "<matplotlib.collections.PathCollection at 0x7fe8b786eb38>"
            ]
          },
          "metadata": {
            "tags": []
          },
          "execution_count": 296
        },
        {
          "output_type": "display_data",
          "data": {
            "image/png": "[encoded data removed]",
            "text/plain": [
              "<Figure size 432x288 with 1 Axes>"
            ]
          },
          "metadata": {
            "tags": [],
            "needs_background": "light"
          }
        }
      ]
    },
    {
      "cell_type": "code",
      "metadata": {
        "colab": {
          "base_uri": "https://localhost:8080/",
          "height": 265
        },
        "id": "69VpX8G8X-1G",
        "outputId": "a4b6a0a6-3020-4a79-80b0-7a6de126f1dd"
      },
      "source": [
        "plt.scatter(X_trr['smart_9_raw'],y_trr,c=X_trr['serial'], marker='s',cmap='gray',s=0.05)\r\n",
        "plt.grid(b=True, which='minor', color='#999999', linestyle='-', alpha=0.2)\r\n",
        "plt.minorticks_on()\r\n",
        "plt.show()"
      ],
      "execution_count": 312,
      "outputs": [
        {
          "output_type": "display_data",
          "data": {
            "image/png": "[encoded data removed]",
            "text/plain": [
              "<Figure size 432x288 with 1 Axes>"
            ]
          },
          "metadata": {
            "tags": [],
            "needs_background": "light"
          }
        }
      ]
    },
    {
      "cell_type": "code",
      "metadata": {
        "colab": {
          "base_uri": "https://localhost:8080/"
        },
        "id": "HdjlWyfTNurx",
        "outputId": "0ae38a5b-b97f-4ea3-d16b-922756b25582"
      },
      "source": [
        "X_train['serial_number'].nunique()"
      ],
      "execution_count": 150,
      "outputs": [
        {
          "output_type": "execute_result",
          "data": {
            "text/plain": [
              "402"
            ]
          },
          "metadata": {
            "tags": []
          },
          "execution_count": 150
        }
      ]
    },
    {
      "cell_type": "code",
      "metadata": {
        "id": "8LJN25V-PI8M"
      },
      "source": [
        "# import labelencoder\r\n",
        "from sklearn.preprocessing import LabelEncoder\r\n",
        "# instantiate labelencoder object\r\n",
        "le = LabelEncoder()\r\n",
        "#Apply LabelEncoder on each of the categorical columns:\r\n",
        "X_train['serial'] = le.fit_transform(X_train['serial_number'])"
      ],
      "execution_count": 155,
      "outputs": []
    },
    {
      "cell_type": "code",
      "metadata": {
        "colab": {
          "base_uri": "https://localhost:8080/"
        },
        "id": "CV3wqWqqPvhc",
        "outputId": "28ca7577-8eae-4e44-c813-73d699b3ebb6"
      },
      "source": [
        "X_train['serial']"
      ],
      "execution_count": 157,
      "outputs": [
        {
          "output_type": "execute_result",
          "data": {
            "text/plain": [
              "0        142\n",
              "1        271\n",
              "2        366\n",
              "3        252\n",
              "4         13\n",
              "        ... \n",
              "95249    293\n",
              "95250    387\n",
              "95251    128\n",
              "95252     63\n",
              "95253    354\n",
              "Name: serial, Length: 95254, dtype: int64"
            ]
          },
          "metadata": {
            "tags": []
          },
          "execution_count": 157
        }
      ]
    },
    {
      "cell_type": "code",
      "metadata": {
        "id": "E6Zj_oZgQg0N"
      },
      "source": [
        "X_train = X_train.set_index(X_train['smart_9_normalized'])"
      ],
      "execution_count": 159,
      "outputs": []
    },
    {
      "cell_type": "markdown",
      "metadata": {
        "id": "8SQ_c_2IbRmv"
      },
      "source": [
        ""
      ]
    }
  ]
}